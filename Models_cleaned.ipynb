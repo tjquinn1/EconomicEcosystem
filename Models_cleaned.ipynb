{
  "nbformat": 4,
  "nbformat_minor": 0,
  "metadata": {
    "kernelspec": {
      "display_name": "Python 3",
      "language": "python",
      "name": "python3"
    },
    "language_info": {
      "codemirror_mode": {
        "name": "ipython",
        "version": 3
      },
      "file_extension": ".py",
      "mimetype": "text/x-python",
      "name": "python",
      "nbconvert_exporter": "python",
      "pygments_lexer": "ipython3",
      "version": "3.6.9"
    },
    "colab": {
      "name": "Models_cleaned.ipynb",
      "provenance": []
    }
  },
  "cells": [
    {
      "cell_type": "code",
      "metadata": {
        "colab": {
          "base_uri": "https://localhost:8080/"
        },
        "id": "9g7ek35i2PL0",
        "outputId": "23d105ac-d4db-4301-f566-285d234f2d65"
      },
      "source": [
        "%pip install plotly\n",
        "%pip install \"ipywidgets>=7.5\"\n",
        "%pip install rpy2"
      ],
      "execution_count": 1,
      "outputs": [
        {
          "output_type": "stream",
          "text": [
            "Requirement already satisfied: plotly in /usr/local/lib/python3.7/dist-packages (4.4.1)\n",
            "Requirement already satisfied: retrying>=1.3.3 in /usr/local/lib/python3.7/dist-packages (from plotly) (1.3.3)\n",
            "Requirement already satisfied: six in /usr/local/lib/python3.7/dist-packages (from plotly) (1.15.0)\n",
            "Requirement already satisfied: ipywidgets>=7.5 in /usr/local/lib/python3.7/dist-packages (7.6.3)\n",
            "Requirement already satisfied: widgetsnbextension~=3.5.0 in /usr/local/lib/python3.7/dist-packages (from ipywidgets>=7.5) (3.5.1)\n",
            "Requirement already satisfied: ipython>=4.0.0; python_version >= \"3.3\" in /usr/local/lib/python3.7/dist-packages (from ipywidgets>=7.5) (5.5.0)\n",
            "Requirement already satisfied: ipykernel>=4.5.1 in /usr/local/lib/python3.7/dist-packages (from ipywidgets>=7.5) (4.10.1)\n",
            "Requirement already satisfied: traitlets>=4.3.1 in /usr/local/lib/python3.7/dist-packages (from ipywidgets>=7.5) (4.3.3)\n",
            "Requirement already satisfied: jupyterlab-widgets>=1.0.0; python_version >= \"3.6\" in /usr/local/lib/python3.7/dist-packages (from ipywidgets>=7.5) (1.0.0)\n",
            "Requirement already satisfied: nbformat>=4.2.0 in /usr/local/lib/python3.7/dist-packages (from ipywidgets>=7.5) (5.1.2)\n",
            "Requirement already satisfied: notebook>=4.4.1 in /usr/local/lib/python3.7/dist-packages (from widgetsnbextension~=3.5.0->ipywidgets>=7.5) (5.3.1)\n",
            "Requirement already satisfied: pexpect; sys_platform != \"win32\" in /usr/local/lib/python3.7/dist-packages (from ipython>=4.0.0; python_version >= \"3.3\"->ipywidgets>=7.5) (4.8.0)\n",
            "Requirement already satisfied: decorator in /usr/local/lib/python3.7/dist-packages (from ipython>=4.0.0; python_version >= \"3.3\"->ipywidgets>=7.5) (4.4.2)\n",
            "Requirement already satisfied: pickleshare in /usr/local/lib/python3.7/dist-packages (from ipython>=4.0.0; python_version >= \"3.3\"->ipywidgets>=7.5) (0.7.5)\n",
            "Requirement already satisfied: pygments in /usr/local/lib/python3.7/dist-packages (from ipython>=4.0.0; python_version >= \"3.3\"->ipywidgets>=7.5) (2.6.1)\n",
            "Requirement already satisfied: simplegeneric>0.8 in /usr/local/lib/python3.7/dist-packages (from ipython>=4.0.0; python_version >= \"3.3\"->ipywidgets>=7.5) (0.8.1)\n",
            "Requirement already satisfied: setuptools>=18.5 in /usr/local/lib/python3.7/dist-packages (from ipython>=4.0.0; python_version >= \"3.3\"->ipywidgets>=7.5) (53.0.0)\n",
            "Requirement already satisfied: prompt-toolkit<2.0.0,>=1.0.4 in /usr/local/lib/python3.7/dist-packages (from ipython>=4.0.0; python_version >= \"3.3\"->ipywidgets>=7.5) (1.0.18)\n",
            "Requirement already satisfied: jupyter-client in /usr/local/lib/python3.7/dist-packages (from ipykernel>=4.5.1->ipywidgets>=7.5) (5.3.5)\n",
            "Requirement already satisfied: tornado>=4.0 in /usr/local/lib/python3.7/dist-packages (from ipykernel>=4.5.1->ipywidgets>=7.5) (5.1.1)\n",
            "Requirement already satisfied: ipython-genutils in /usr/local/lib/python3.7/dist-packages (from traitlets>=4.3.1->ipywidgets>=7.5) (0.2.0)\n",
            "Requirement already satisfied: six in /usr/local/lib/python3.7/dist-packages (from traitlets>=4.3.1->ipywidgets>=7.5) (1.15.0)\n",
            "Requirement already satisfied: jupyter-core in /usr/local/lib/python3.7/dist-packages (from nbformat>=4.2.0->ipywidgets>=7.5) (4.7.1)\n",
            "Requirement already satisfied: jsonschema!=2.5.0,>=2.4 in /usr/local/lib/python3.7/dist-packages (from nbformat>=4.2.0->ipywidgets>=7.5) (2.6.0)\n",
            "Requirement already satisfied: nbconvert in /usr/local/lib/python3.7/dist-packages (from notebook>=4.4.1->widgetsnbextension~=3.5.0->ipywidgets>=7.5) (5.6.1)\n",
            "Requirement already satisfied: terminado>=0.8.1 in /usr/local/lib/python3.7/dist-packages (from notebook>=4.4.1->widgetsnbextension~=3.5.0->ipywidgets>=7.5) (0.9.2)\n",
            "Requirement already satisfied: Send2Trash in /usr/local/lib/python3.7/dist-packages (from notebook>=4.4.1->widgetsnbextension~=3.5.0->ipywidgets>=7.5) (1.5.0)\n",
            "Requirement already satisfied: jinja2 in /usr/local/lib/python3.7/dist-packages (from notebook>=4.4.1->widgetsnbextension~=3.5.0->ipywidgets>=7.5) (2.11.3)\n",
            "Requirement already satisfied: ptyprocess>=0.5 in /usr/local/lib/python3.7/dist-packages (from pexpect; sys_platform != \"win32\"->ipython>=4.0.0; python_version >= \"3.3\"->ipywidgets>=7.5) (0.7.0)\n",
            "Requirement already satisfied: wcwidth in /usr/local/lib/python3.7/dist-packages (from prompt-toolkit<2.0.0,>=1.0.4->ipython>=4.0.0; python_version >= \"3.3\"->ipywidgets>=7.5) (0.2.5)\n",
            "Requirement already satisfied: pyzmq>=13 in /usr/local/lib/python3.7/dist-packages (from jupyter-client->ipykernel>=4.5.1->ipywidgets>=7.5) (22.0.3)\n",
            "Requirement already satisfied: python-dateutil>=2.1 in /usr/local/lib/python3.7/dist-packages (from jupyter-client->ipykernel>=4.5.1->ipywidgets>=7.5) (2.8.1)\n",
            "Requirement already satisfied: defusedxml in /usr/local/lib/python3.7/dist-packages (from nbconvert->notebook>=4.4.1->widgetsnbextension~=3.5.0->ipywidgets>=7.5) (0.6.0)\n",
            "Requirement already satisfied: mistune<2,>=0.8.1 in /usr/local/lib/python3.7/dist-packages (from nbconvert->notebook>=4.4.1->widgetsnbextension~=3.5.0->ipywidgets>=7.5) (0.8.4)\n",
            "Requirement already satisfied: entrypoints>=0.2.2 in /usr/local/lib/python3.7/dist-packages (from nbconvert->notebook>=4.4.1->widgetsnbextension~=3.5.0->ipywidgets>=7.5) (0.3)\n",
            "Requirement already satisfied: pandocfilters>=1.4.1 in /usr/local/lib/python3.7/dist-packages (from nbconvert->notebook>=4.4.1->widgetsnbextension~=3.5.0->ipywidgets>=7.5) (1.4.3)\n",
            "Requirement already satisfied: bleach in /usr/local/lib/python3.7/dist-packages (from nbconvert->notebook>=4.4.1->widgetsnbextension~=3.5.0->ipywidgets>=7.5) (3.3.0)\n",
            "Requirement already satisfied: testpath in /usr/local/lib/python3.7/dist-packages (from nbconvert->notebook>=4.4.1->widgetsnbextension~=3.5.0->ipywidgets>=7.5) (0.4.4)\n",
            "Requirement already satisfied: MarkupSafe>=0.23 in /usr/local/lib/python3.7/dist-packages (from jinja2->notebook>=4.4.1->widgetsnbextension~=3.5.0->ipywidgets>=7.5) (1.1.1)\n",
            "Requirement already satisfied: webencodings in /usr/local/lib/python3.7/dist-packages (from bleach->nbconvert->notebook>=4.4.1->widgetsnbextension~=3.5.0->ipywidgets>=7.5) (0.5.1)\n",
            "Requirement already satisfied: packaging in /usr/local/lib/python3.7/dist-packages (from bleach->nbconvert->notebook>=4.4.1->widgetsnbextension~=3.5.0->ipywidgets>=7.5) (20.9)\n",
            "Requirement already satisfied: pyparsing>=2.0.2 in /usr/local/lib/python3.7/dist-packages (from packaging->bleach->nbconvert->notebook>=4.4.1->widgetsnbextension~=3.5.0->ipywidgets>=7.5) (2.4.7)\n",
            "Requirement already satisfied: rpy2 in /usr/local/lib/python3.7/dist-packages (3.2.7)\n",
            "Requirement already satisfied: pytz in /usr/local/lib/python3.7/dist-packages (from rpy2) (2018.9)\n",
            "Requirement already satisfied: tzlocal in /usr/local/lib/python3.7/dist-packages (from rpy2) (1.5.1)\n",
            "Requirement already satisfied: cffi>=1.13.1 in /usr/local/lib/python3.7/dist-packages (from rpy2) (1.14.5)\n",
            "Requirement already satisfied: simplegeneric in /usr/local/lib/python3.7/dist-packages (from rpy2) (0.8.1)\n",
            "Requirement already satisfied: jinja2 in /usr/local/lib/python3.7/dist-packages (from rpy2) (2.11.3)\n",
            "Requirement already satisfied: pytest in /usr/local/lib/python3.7/dist-packages (from rpy2) (3.6.4)\n",
            "Requirement already satisfied: pycparser in /usr/local/lib/python3.7/dist-packages (from cffi>=1.13.1->rpy2) (2.20)\n",
            "Requirement already satisfied: MarkupSafe>=0.23 in /usr/local/lib/python3.7/dist-packages (from jinja2->rpy2) (1.1.1)\n",
            "Requirement already satisfied: pluggy<0.8,>=0.5 in /usr/local/lib/python3.7/dist-packages (from pytest->rpy2) (0.7.1)\n",
            "Requirement already satisfied: atomicwrites>=1.0 in /usr/local/lib/python3.7/dist-packages (from pytest->rpy2) (1.4.0)\n",
            "Requirement already satisfied: more-itertools>=4.0.0 in /usr/local/lib/python3.7/dist-packages (from pytest->rpy2) (8.7.0)\n",
            "Requirement already satisfied: py>=1.5.0 in /usr/local/lib/python3.7/dist-packages (from pytest->rpy2) (1.10.0)\n",
            "Requirement already satisfied: setuptools in /usr/local/lib/python3.7/dist-packages (from pytest->rpy2) (53.0.0)\n",
            "Requirement already satisfied: six>=1.10.0 in /usr/local/lib/python3.7/dist-packages (from pytest->rpy2) (1.15.0)\n",
            "Requirement already satisfied: attrs>=17.4.0 in /usr/local/lib/python3.7/dist-packages (from pytest->rpy2) (20.3.0)\n"
          ],
          "name": "stdout"
        }
      ]
    },
    {
      "cell_type": "code",
      "metadata": {
        "id": "1UW5Cx0L5cPE",
        "outputId": "e1a18f4d-84f9-4e8d-8b53-4b7c7fbcfd7c",
        "colab": {
          "base_uri": "https://localhost:8080/"
        }
      },
      "source": [
        "%load_ext rpy2.ipython\r\n",
        "import numpy as np\r\n",
        "import pandas as pd\r\n",
        "from scipy.integrate import odeint\r\n",
        "from random import seed, gauss, randint\r\n",
        "import csv\r\n",
        "import random\r\n",
        "seed(1)"
      ],
      "execution_count": 2,
      "outputs": [
        {
          "output_type": "stream",
          "text": [
            "/usr/local/lib/python3.7/dist-packages/rpy2/robjects/pandas2ri.py:14: FutureWarning: pandas.core.index is deprecated and will be removed in a future version.  The public classes are available in the top-level namespace.\n",
            "  from pandas.core.index import Index as PandasIndex\n",
            "/usr/local/lib/python3.7/dist-packages/rpy2/robjects/pandas2ri.py:34: UserWarning: pandas >= 1.0 is not supported.\n",
            "  warnings.warn('pandas >= 1.0 is not supported.')\n"
          ],
          "name": "stderr"
        }
      ]
    },
    {
      "cell_type": "code",
      "metadata": {
        "id": "4cHegXeh2PL5",
        "outputId": "77369974-1397-4916-fb51-9363db525b20",
        "colab": {
          "base_uri": "https://localhost:8080/"
        }
      },
      "source": [
        "%%R\r\n",
        "install.packages(\"tidyverse\")\r\n",
        "\r\n",
        "install.packages(\"magrittr\") # package installations are only needed the first time you use it\r\n",
        "install.packages(\"dplyr\")    # alternative installation of the %>%\r\n",
        "library(magrittr) # needs to be run every time you start R and want to use %>%\r\n",
        "library(dplyr)    # alternatively, this also loads %>%\r\n",
        "library(tidyverse)\r\n",
        "\r\n",
        "colours = c('red3', 'deepskyblue', 'orange')"
      ],
      "execution_count": 8,
      "outputs": [
        {
          "output_type": "stream",
          "text": [
            "R[write to console]: Installing package into ‘/usr/local/lib/R/site-library’\n",
            "(as ‘lib’ is unspecified)\n",
            "\n",
            "R[write to console]: trying URL 'https://cran.rstudio.com/src/contrib/tidyverse_1.3.0.tar.gz'\n",
            "\n",
            "R[write to console]: Content type 'application/x-gzip'\n",
            "R[write to console]:  length 712837 bytes (696 KB)\n",
            "\n",
            "R[write to console]: =\n",
            "R[write to console]: =\n",
            "R[write to console]: =\n",
            "R[write to console]: =\n",
            "R[write to console]: =\n",
            "R[write to console]: =\n",
            "R[write to console]: =\n",
            "R[write to console]: =\n",
            "R[write to console]: =\n",
            "R[write to console]: =\n",
            "R[write to console]: =\n",
            "R[write to console]: =\n",
            "R[write to console]: =\n",
            "R[write to console]: =\n",
            "R[write to console]: =\n",
            "R[write to console]: =\n",
            "R[write to console]: =\n",
            "R[write to console]: =\n",
            "R[write to console]: =\n",
            "R[write to console]: =\n",
            "R[write to console]: =\n",
            "R[write to console]: =\n",
            "R[write to console]: =\n",
            "R[write to console]: =\n",
            "R[write to console]: =\n",
            "R[write to console]: =\n",
            "R[write to console]: =\n",
            "R[write to console]: =\n",
            "R[write to console]: =\n",
            "R[write to console]: =\n",
            "R[write to console]: =\n",
            "R[write to console]: =\n",
            "R[write to console]: =\n",
            "R[write to console]: =\n",
            "R[write to console]: =\n",
            "R[write to console]: =\n",
            "R[write to console]: =\n",
            "R[write to console]: =\n",
            "R[write to console]: =\n",
            "R[write to console]: =\n",
            "R[write to console]: =\n",
            "R[write to console]: =\n",
            "R[write to console]: =\n",
            "R[write to console]: =\n",
            "R[write to console]: =\n",
            "R[write to console]: =\n",
            "R[write to console]: =\n",
            "R[write to console]: =\n",
            "R[write to console]: =\n",
            "R[write to console]: =\n",
            "R[write to console]: \n",
            "\n",
            "R[write to console]: downloaded 696 KB\n",
            "\n",
            "\n",
            "R[write to console]: \n",
            "\n",
            "R[write to console]: \n",
            "R[write to console]: The downloaded source packages are in\n",
            "\t‘/tmp/RtmpRddVNu/downloaded_packages’\n",
            "R[write to console]: \n",
            "R[write to console]: \n",
            "\n",
            "R[write to console]: Installing package into ‘/usr/local/lib/R/site-library’\n",
            "(as ‘lib’ is unspecified)\n",
            "\n",
            "R[write to console]: trying URL 'https://cran.rstudio.com/src/contrib/magrittr_2.0.1.tar.gz'\n",
            "\n",
            "R[write to console]: Content type 'application/x-gzip'\n",
            "R[write to console]:  length 265580 bytes (259 KB)\n",
            "\n",
            "R[write to console]: =\n",
            "R[write to console]: =\n",
            "R[write to console]: =\n",
            "R[write to console]: =\n",
            "R[write to console]: =\n",
            "R[write to console]: =\n",
            "R[write to console]: =\n",
            "R[write to console]: =\n",
            "R[write to console]: =\n",
            "R[write to console]: =\n",
            "R[write to console]: =\n",
            "R[write to console]: =\n",
            "R[write to console]: =\n",
            "R[write to console]: =\n",
            "R[write to console]: =\n",
            "R[write to console]: =\n",
            "R[write to console]: =\n",
            "R[write to console]: =\n",
            "R[write to console]: =\n",
            "R[write to console]: =\n",
            "R[write to console]: =\n",
            "R[write to console]: =\n",
            "R[write to console]: =\n",
            "R[write to console]: =\n",
            "R[write to console]: =\n",
            "R[write to console]: =\n",
            "R[write to console]: =\n",
            "R[write to console]: =\n",
            "R[write to console]: =\n",
            "R[write to console]: =\n",
            "R[write to console]: =\n",
            "R[write to console]: =\n",
            "R[write to console]: =\n",
            "R[write to console]: =\n",
            "R[write to console]: =\n",
            "R[write to console]: =\n",
            "R[write to console]: =\n",
            "R[write to console]: =\n",
            "R[write to console]: =\n",
            "R[write to console]: =\n",
            "R[write to console]: =\n",
            "R[write to console]: =\n",
            "R[write to console]: =\n",
            "R[write to console]: =\n",
            "R[write to console]: =\n",
            "R[write to console]: =\n",
            "R[write to console]: =\n",
            "R[write to console]: =\n",
            "R[write to console]: =\n",
            "R[write to console]: =\n",
            "R[write to console]: \n",
            "\n",
            "R[write to console]: downloaded 259 KB\n",
            "\n",
            "\n",
            "R[write to console]: \n",
            "\n",
            "R[write to console]: \n",
            "R[write to console]: The downloaded source packages are in\n",
            "\t‘/tmp/RtmpRddVNu/downloaded_packages’\n",
            "R[write to console]: \n",
            "R[write to console]: \n",
            "\n",
            "R[write to console]: Installing package into ‘/usr/local/lib/R/site-library’\n",
            "(as ‘lib’ is unspecified)\n",
            "\n",
            "R[write to console]: trying URL 'https://cran.rstudio.com/src/contrib/dplyr_1.0.4.tar.gz'\n",
            "\n",
            "R[write to console]: Content type 'application/x-gzip'\n",
            "R[write to console]:  length 953686 bytes (931 KB)\n",
            "\n",
            "R[write to console]: =\n",
            "R[write to console]: =\n",
            "R[write to console]: =\n",
            "R[write to console]: =\n",
            "R[write to console]: =\n",
            "R[write to console]: =\n",
            "R[write to console]: =\n",
            "R[write to console]: =\n",
            "R[write to console]: =\n",
            "R[write to console]: =\n",
            "R[write to console]: =\n",
            "R[write to console]: =\n",
            "R[write to console]: =\n",
            "R[write to console]: =\n",
            "R[write to console]: =\n",
            "R[write to console]: =\n",
            "R[write to console]: =\n",
            "R[write to console]: =\n",
            "R[write to console]: =\n",
            "R[write to console]: =\n",
            "R[write to console]: =\n",
            "R[write to console]: =\n",
            "R[write to console]: =\n",
            "R[write to console]: =\n",
            "R[write to console]: =\n",
            "R[write to console]: =\n",
            "R[write to console]: =\n",
            "R[write to console]: =\n",
            "R[write to console]: =\n",
            "R[write to console]: =\n",
            "R[write to console]: =\n",
            "R[write to console]: =\n",
            "R[write to console]: =\n",
            "R[write to console]: =\n",
            "R[write to console]: =\n",
            "R[write to console]: =\n",
            "R[write to console]: =\n",
            "R[write to console]: =\n",
            "R[write to console]: =\n",
            "R[write to console]: =\n",
            "R[write to console]: =\n",
            "R[write to console]: =\n",
            "R[write to console]: =\n",
            "R[write to console]: =\n",
            "R[write to console]: =\n",
            "R[write to console]: =\n",
            "R[write to console]: =\n",
            "R[write to console]: =\n",
            "R[write to console]: =\n",
            "R[write to console]: =\n",
            "R[write to console]: \n",
            "\n",
            "R[write to console]: downloaded 931 KB\n",
            "\n",
            "\n",
            "R[write to console]: \n",
            "\n",
            "R[write to console]: \n",
            "R[write to console]: The downloaded source packages are in\n",
            "\t‘/tmp/RtmpRddVNu/downloaded_packages’\n",
            "R[write to console]: \n",
            "R[write to console]: \n",
            "\n",
            "R[write to console]: \n",
            "Attaching package: ‘dplyr’\n",
            "\n",
            "\n",
            "R[write to console]: The following objects are masked from ‘package:stats’:\n",
            "\n",
            "    filter, lag\n",
            "\n",
            "\n",
            "R[write to console]: The following objects are masked from ‘package:base’:\n",
            "\n",
            "    intersect, setdiff, setequal, union\n",
            "\n",
            "\n",
            "R[write to console]: ── Attaching packages ─────────────────────────────────────── tidyverse 1.3.0 ──\n",
            "\n",
            "R[write to console]: ✔ ggplot2 3.3.3     ✔ purrr   0.3.4\n",
            "✔ tibble  3.0.6     ✔ stringr 1.4.0\n",
            "✔ tidyr   1.1.2     ✔ forcats 0.5.1\n",
            "✔ readr   1.4.0     \n",
            "\n",
            "R[write to console]: ── Conflicts ────────────────────────────────────────── tidyverse_conflicts() ──\n",
            "✖ tidyr::extract()   masks magrittr::extract()\n",
            "✖ dplyr::filter()    masks stats::filter()\n",
            "✖ dplyr::lag()       masks stats::lag()\n",
            "✖ purrr::set_names() masks magrittr::set_names()\n",
            "\n"
          ],
          "name": "stderr"
        }
      ]
    },
    {
      "cell_type": "markdown",
      "metadata": {
        "id": "jRKviDFC2PL5"
      },
      "source": [
        "## Jam"
      ]
    },
    {
      "cell_type": "code",
      "metadata": {
        "id": "wrpQWkbi2PL6",
        "outputId": "24fa35f5-d028-49b0-c1c8-849000c6094a",
        "colab": {
          "base_uri": "https://localhost:8080/"
        }
      },
      "source": [
        "C=10\n",
        "delta_C=1\n",
        "delta_P=0\n",
        "time=10\n",
        "alpha = 1.1\n",
        "beta = 1.3\n",
        "I_C = .7\n",
        "P = 10\n",
        "results = []\n",
        "current_day = 0\n",
        "delta_C = 1\n",
        "rho_C =.6\n",
        "rho_p = .3\n",
        "\n",
        "while current_day <= time:\n",
        "    \n",
        "    # capital D represents delta\n",
        "    \n",
        "    dIdt = -rho_C * I_C\n",
        "    \n",
        "    dCdt = -rho_C*I_C\n",
        "    C += dCdt\n",
        "    \n",
        "    dPdt = rho_C*I_C\n",
        "    P += dPdt\n",
        "    \n",
        "    dDPdt = beta*rho_C*I_C\n",
        "    \n",
        "    dCdt = rho_C*I_C\n",
        "    C += dCdt\n",
        "    \n",
        "    #dPdt = -rho_C*I_C\n",
        "    #P += dPdt\n",
        "    \n",
        "    dEdt=0\n",
        "    \n",
        "    NI = rho_C * I_C\n",
        "    \n",
        "    dIdt = NI - rho_C\n",
        "    \n",
        "    dCdt = rho_C*I_C\n",
        "    C += dCdt\n",
        "    \n",
        "    dDCdt = alpha * dCdt\n",
        "    delta_C += dDCdt\n",
        "    \n",
        "    dDPdt = beta * dCdt\n",
        "    delta_P += dDPdt\n",
        "    \n",
        "    rho_C = delta_C/C\n",
        "    \n",
        "    day_results = {\n",
        "        'I_C': I_C,\n",
        "        'C': C,\n",
        "        'P': P,\n",
        "        'delta_C': delta_C,\n",
        "        'delta_P': delta_P,\n",
        "        'rho_C': rho_C\n",
        "    }\n",
        "    \n",
        "    results.append(day_results)\n",
        "    current_day += 1\n",
        "df = pd.DataFrame(results)\n",
        "print(df)"
      ],
      "execution_count": 9,
      "outputs": [
        {
          "output_type": "stream",
          "text": [
            "    I_C          C          P   delta_C   delta_P     rho_C\n",
            "0   0.7  10.420000  10.420000  1.462000  0.546000  0.140307\n",
            "1   0.7  10.518215  10.518215  1.570036  0.673679  0.149268\n",
            "2   0.7  10.622703  10.622703  1.684973  0.809514  0.158620\n",
            "3   0.7  10.733737  10.733737  1.807110  0.953858  0.168358\n",
            "4   0.7  10.851587  10.851587  1.936746  1.107064  0.178476\n",
            "5   0.7  10.976520  10.976520  2.074173  1.269477  0.188964\n",
            "6   0.7  11.108796  11.108796  2.219675  1.441434  0.199812\n",
            "7   0.7  11.248664  11.248664  2.373531  1.623264  0.211006\n",
            "8   0.7  11.396368  11.396368  2.536005  1.815279  0.222527\n",
            "9   0.7  11.552137  11.552137  2.707351  2.017779  0.234359\n",
            "10  0.7  11.716189  11.716189  2.887808  2.231046  0.246480\n"
          ],
          "name": "stdout"
        }
      ]
    },
    {
      "cell_type": "code",
      "metadata": {
        "id": "bjaq9kEz2PL8",
        "outputId": "d480c291-2367-42ec-93ab-b9016059cb71",
        "colab": {
          "base_uri": "https://localhost:8080/"
        }
      },
      "source": [
        "%%R -i df\r\n",
        "df %>% gather(measure, value, -t) %>% \r\n",
        "    mutate(measure = fct_relevel(measure, 'I_C', 'C', 'P', 'delta_C', 'delta_P', 'rho_C')) %>% filter(measure != 'I_C') %>%\r\n",
        "    ggplot(aes(x = t, y = value, color = measure)) + theme_tufte() + geom_line(size = 1) +\r\n",
        "    scale_color_brewer(palette = 'Paired')"
      ],
      "execution_count": 12,
      "outputs": [
        {
          "output_type": "stream",
          "text": [
            "R[write to console]: Error: \n",
            "R[write to console]: \n",
            "R[write to console]: Can't subset columns that don't exist.\n",
            "✖ Column `t` doesn't exist.\n",
            "R[write to console]: \n",
            "R[write to console]: \n",
            "\n",
            "R[write to console]: Backtrace:\n",
            "     █\n",
            "  1. ├─(function (expr, envir = parent.frame(), enclos = if (is.list(envir) || ...\n",
            "  2. │ └─(function (expr, envir = parent.frame(), enclos = if (is.list(envir) || ...\n",
            "  3. ├─base::withVisible(...)\n",
            "  4. ├─`%>%`(...)\n",
            "  5. ├─ggplot2::ggplot(., aes(x = t, y = value, color = measure))\n",
            "  6. ├─dplyr::filter(., measure != \"I_C\")\n",
            "  7. ├─dplyr::mutate(...)\n",
            "  8. ├─tidyr::gather(., measure, value, -t)\n",
            "  9. └─tidyr:::gather.data.frame(., measure, value, -t)\n",
            " 10.   ├─base::unname(tidyselect::vars_select(tbl_vars(data), !!!quos))\n",
            " 11.   └─tidyselect::vars_select(tbl_vars(data), !!!quos)\n",
            " 12.     └─tidyselect:::eval_select_impl(...)\n",
            " 13.       ├─tidyselect:::with_subscript_errors(...)\n",
            " 14.       │ ├─base::tryCatch(...)\n",
            " 15.       │ │ └─base:::tryCatchList(expr, classes, parentenv, handlers)\n",
            " 16.       │ │   └─base:::tryCatchOne(expr, names, parentenv, handlers[[1L]])\n",
            " 17.       │ │     └─base:::doTryCatch(return(expr), name, parentenv, handler)\n",
            " 18.       │ └─tidyselect:::instrument_base_errors(expr)\n",
            " 19.       │   └─base::withCallingHandlers(...)\n",
            " 20.       └─tidyselect:::vars_select_eval(...)\n",
            " 21.         └─tidyselect:::walk_data_tree(expr, data_mask, context_mask)\n",
            " 22.           └─tidyselect:::eval_c(expr, data_mask, context_mask)\n",
            " 23.             └─tidyselect:::reduce_sels(node, data_mask, context_mask, init = init)\n",
            " 24.               └─tidyselect:::walk_data_tree(new, data_mask, context_mask)\n",
            " 25.                 └─tidyselect:::as_indices_sel_impl(...)\n",
            " 26.                   └─tidyselect:::as_indices_impl(x, vars, strict = strict)\n",
            " 27.                     └─tidyselect:::chr_as_locations(x, vars)\n",
            " 28.                       └─vctrs::vec_as_location(x, n = length(vars), names = vars)\n",
            " 29.                         └─(function () ...\n",
            " 30.                           └─vctrs:::stop_subscript_oob(...)\n",
            " 31.                             └─vctrs:::stop_subscript(...)\n",
            "R[write to console]: \n",
            "R[write to console]: \n",
            "\n"
          ],
          "name": "stderr"
        },
        {
          "output_type": "stream",
          "text": [
            "\n",
            "Error: Can't subset columns that don't exist.\n",
            "✖ Column `t` doesn't exist.\n"
          ],
          "name": "stdout"
        }
      ]
    },
    {
      "cell_type": "code",
      "metadata": {
        "id": "TlKCRNB02PL9"
      },
      "source": [
        "rho_C =.6\n",
        "alpha = 1.1\n",
        "beta = 1.3\n",
        "C = 10\n",
        "\n",
        "dCdt = rho_C * I_C\n",
        "dDCdt = alpha * dCdt\n",
        "dDPdt = beta * dCdt\n",
        "rho_C = delta_C/C\n"
      ],
      "execution_count": null,
      "outputs": []
    },
    {
      "cell_type": "code",
      "metadata": {
        "id": "qHkvki312PL9",
        "outputId": "4aef4cf0-8908-4dc5-ee75-6bd30cf6fa72"
      },
      "source": [
        "def deriv(y, t, I, P, alpha, beta):\n",
        "    C, delta_C, delta_P = y\n",
        "    rho_C = delta_C / C\n",
        "    dCdt = rho_C * I\n",
        "    ddelta_Pdt = beta * dCdt\n",
        "    ddelta_Cdt = alpha * dCdt\n",
        "    return dCdt, ddelta_Cdt, ddelta_Pdt\n",
        "\n",
        "t = np.linspace(1, 10, 10)\n",
        "\n",
        "y0 = 10, 1, 0\n",
        "I, P = 10, 10\n",
        "alpha, beta = .1, .2\n",
        "ret = odeint(deriv, y0, t, args = (I, P, alpha, beta))\n",
        "C, delta_C, delta_P = ret.T\n",
        "\n",
        "\n",
        "jam_results = pd.DataFrame({'t': t, 'I': I, 'C': C, 'P':P, 'delta_C':delta_C, 'delta_P':delta_P})\n",
        "print(jam_results)"
      ],
      "execution_count": null,
      "outputs": [
        {
          "output_type": "stream",
          "text": [
            "      t   I     C   P  delta_C  delta_P\n",
            "0   1.0  10  10.0  10      1.0      0.0\n",
            "1   2.0  10  11.0  10      1.1      0.2\n",
            "2   3.0  10  12.0  10      1.2      0.4\n",
            "3   4.0  10  13.0  10      1.3      0.6\n",
            "4   5.0  10  14.0  10      1.4      0.8\n",
            "5   6.0  10  15.0  10      1.5      1.0\n",
            "6   7.0  10  16.0  10      1.6      1.2\n",
            "7   8.0  10  17.0  10      1.7      1.4\n",
            "8   9.0  10  18.0  10      1.8      1.6\n",
            "9  10.0  10  19.0  10      1.9      1.8\n"
          ],
          "name": "stdout"
        }
      ]
    },
    {
      "cell_type": "markdown",
      "metadata": {
        "id": "XNIzxQzc2PL-"
      },
      "source": [
        "## Jars"
      ]
    },
    {
      "cell_type": "code",
      "metadata": {
        "id": "cY2VeaBG2PL-",
        "outputId": "16b2a2ac-733c-4dc1-afae-4b2224103893"
      },
      "source": [
        "delta_P=1.0\n",
        "time=10.0\n",
        "alpha = 1.1\n",
        "beta = 1.5\n",
        "I_P = 10\n",
        "P = 10.0\n",
        "results = []\n",
        "current_day = 0\n",
        "rho_P = .6\n",
        "\n",
        "while current_day <= time:\n",
        "    \n",
        "    dIdt = rho_P * I_P\n",
        "    \n",
        "    dPdt = 0\n",
        "    P += dPdt\n",
        "    \n",
        "    dEdt = 0\n",
        "    \n",
        "    dIdt = 0\n",
        "    \n",
        "    dPdt = rho_P + I_P\n",
        "    P += dPdt\n",
        "    \n",
        "    dDPdt = beta* dPdt\n",
        "    delta_P += dDPdt\n",
        "    \n",
        "    rho_P = delta_P / P\n",
        "    \n",
        "    \n",
        "    \n",
        "    day_results = {\n",
        "        'I': I,\n",
        "        'dPdt': dPdt,\n",
        "        'P': P,\n",
        "        'delta P': delta_P,\n",
        "        'rho_P': rho_P\n",
        "    }\n",
        "    results.append(day_results)\n",
        "    current_day += 1\n",
        "df = pd.DataFrame(results)\n",
        "print(df)"
      ],
      "execution_count": null,
      "outputs": [
        {
          "output_type": "stream",
          "text": [
            "     I       dPdt           P     delta P     rho_P\n",
            "0   10  10.600000   20.600000   16.900000  0.820388\n",
            "1   10  10.820388   31.420388   33.130583  1.054429\n",
            "2   10  11.054429   42.474818   49.712227  1.170393\n",
            "3   10  11.170393   53.645211   66.467816  1.239026\n",
            "4   10  11.239026   64.884237   83.326355  1.284231\n",
            "5   10  11.284231   76.168468  100.252702  1.316197\n",
            "6   10  11.316197   87.484665  117.226997  1.339972\n",
            "7   10  11.339972   98.824637  134.236955  1.358335\n",
            "8   10  11.358335  110.182972  151.274458  1.372939\n",
            "9   10  11.372939  121.555910  168.333866  1.384827\n",
            "10  10  11.384827  132.940737  185.411105  1.394690\n"
          ],
          "name": "stdout"
        }
      ]
    },
    {
      "cell_type": "code",
      "metadata": {
        "id": "hexF2C6J2PMA",
        "outputId": "abbbd49e-d661-4bd1-957e-d406243dc08c"
      },
      "source": [
        "df.plot()"
      ],
      "execution_count": null,
      "outputs": [
        {
          "output_type": "display_data",
          "data": {
            "application/vnd.plotly.v1+json": {
              "config": {
                "plotlyServerURL": "https://plot.ly"
              },
              "data": [
                {
                  "hovertemplate": "variable=I<br>index=%{x}<br>value=%{y}<extra></extra>",
                  "legendgroup": "I",
                  "line": {
                    "color": "#636efa",
                    "dash": "solid"
                  },
                  "mode": "lines",
                  "name": "I",
                  "orientation": "v",
                  "showlegend": true,
                  "type": "scatter",
                  "x": [
                    0,
                    1,
                    2,
                    3,
                    4,
                    5,
                    6,
                    7,
                    8,
                    9,
                    10
                  ],
                  "xaxis": "x",
                  "y": [
                    10,
                    10,
                    10,
                    10,
                    10,
                    10,
                    10,
                    10,
                    10,
                    10,
                    10
                  ],
                  "yaxis": "y"
                },
                {
                  "hovertemplate": "variable=dPdt<br>index=%{x}<br>value=%{y}<extra></extra>",
                  "legendgroup": "dPdt",
                  "line": {
                    "color": "#EF553B",
                    "dash": "solid"
                  },
                  "mode": "lines",
                  "name": "dPdt",
                  "orientation": "v",
                  "showlegend": true,
                  "type": "scatter",
                  "x": [
                    0,
                    1,
                    2,
                    3,
                    4,
                    5,
                    6,
                    7,
                    8,
                    9,
                    10
                  ],
                  "xaxis": "x",
                  "y": [
                    10.6,
                    10.820388349514563,
                    11.054429441028335,
                    11.170392935667468,
                    11.239026097381704,
                    11.284231106269104,
                    11.31619690692884,
                    11.339971953643325,
                    11.358334920778022,
                    11.372938623976363,
                    11.38482666156343
                  ],
                  "yaxis": "y"
                },
                {
                  "hovertemplate": "variable=P<br>index=%{x}<br>value=%{y}<extra></extra>",
                  "legendgroup": "P",
                  "line": {
                    "color": "#00cc96",
                    "dash": "solid"
                  },
                  "mode": "lines",
                  "name": "P",
                  "orientation": "v",
                  "showlegend": true,
                  "type": "scatter",
                  "x": [
                    0,
                    1,
                    2,
                    3,
                    4,
                    5,
                    6,
                    7,
                    8,
                    9,
                    10
                  ],
                  "xaxis": "x",
                  "y": [
                    20.6,
                    31.420388349514564,
                    42.4748177905429,
                    53.645210726210365,
                    64.88423682359206,
                    76.16846792986117,
                    87.48466483679,
                    98.82463679043333,
                    110.18297171121135,
                    121.55591033518772,
                    132.94073699675116
                  ],
                  "yaxis": "y"
                },
                {
                  "hovertemplate": "variable=delta P<br>index=%{x}<br>value=%{y}<extra></extra>",
                  "legendgroup": "delta P",
                  "line": {
                    "color": "#ab63fa",
                    "dash": "solid"
                  },
                  "mode": "lines",
                  "name": "delta P",
                  "orientation": "v",
                  "showlegend": true,
                  "type": "scatter",
                  "x": [
                    0,
                    1,
                    2,
                    3,
                    4,
                    5,
                    6,
                    7,
                    8,
                    9,
                    10
                  ],
                  "xaxis": "x",
                  "y": [
                    16.9,
                    33.130582524271844,
                    49.71222668581434,
                    66.46781608931555,
                    83.3263552353881,
                    100.25270189479176,
                    117.22699725518501,
                    134.23695518565,
                    151.27445756681703,
                    168.33386550278158,
                    185.41110549512672
                  ],
                  "yaxis": "y"
                },
                {
                  "hovertemplate": "variable=rho_P<br>index=%{x}<br>value=%{y}<extra></extra>",
                  "legendgroup": "rho_P",
                  "line": {
                    "color": "#FFA15A",
                    "dash": "solid"
                  },
                  "mode": "lines",
                  "name": "rho_P",
                  "orientation": "v",
                  "showlegend": true,
                  "type": "scatter",
                  "x": [
                    0,
                    1,
                    2,
                    3,
                    4,
                    5,
                    6,
                    7,
                    8,
                    9,
                    10
                  ],
                  "xaxis": "x",
                  "y": [
                    0.820388349514563,
                    1.0544294410283348,
                    1.170392935667469,
                    1.2390260973817038,
                    1.284231106269103,
                    1.3161969069288393,
                    1.3399719536433252,
                    1.3583349207780215,
                    1.372938623976363,
                    1.3848266615634295,
                    1.3946899173551133
                  ],
                  "yaxis": "y"
                }
              ],
              "layout": {
                "legend": {
                  "title": {
                    "text": "variable"
                  },
                  "tracegroupgap": 0
                },
                "margin": {
                  "t": 60
                },
                "template": {
                  "data": {
                    "bar": [
                      {
                        "error_x": {
                          "color": "#2a3f5f"
                        },
                        "error_y": {
                          "color": "#2a3f5f"
                        },
                        "marker": {
                          "line": {
                            "color": "#E5ECF6",
                            "width": 0.5
                          }
                        },
                        "type": "bar"
                      }
                    ],
                    "barpolar": [
                      {
                        "marker": {
                          "line": {
                            "color": "#E5ECF6",
                            "width": 0.5
                          }
                        },
                        "type": "barpolar"
                      }
                    ],
                    "carpet": [
                      {
                        "aaxis": {
                          "endlinecolor": "#2a3f5f",
                          "gridcolor": "white",
                          "linecolor": "white",
                          "minorgridcolor": "white",
                          "startlinecolor": "#2a3f5f"
                        },
                        "baxis": {
                          "endlinecolor": "#2a3f5f",
                          "gridcolor": "white",
                          "linecolor": "white",
                          "minorgridcolor": "white",
                          "startlinecolor": "#2a3f5f"
                        },
                        "type": "carpet"
                      }
                    ],
                    "choropleth": [
                      {
                        "colorbar": {
                          "outlinewidth": 0,
                          "ticks": ""
                        },
                        "type": "choropleth"
                      }
                    ],
                    "contour": [
                      {
                        "colorbar": {
                          "outlinewidth": 0,
                          "ticks": ""
                        },
                        "colorscale": [
                          [
                            0,
                            "#0d0887"
                          ],
                          [
                            0.1111111111111111,
                            "#46039f"
                          ],
                          [
                            0.2222222222222222,
                            "#7201a8"
                          ],
                          [
                            0.3333333333333333,
                            "#9c179e"
                          ],
                          [
                            0.4444444444444444,
                            "#bd3786"
                          ],
                          [
                            0.5555555555555556,
                            "#d8576b"
                          ],
                          [
                            0.6666666666666666,
                            "#ed7953"
                          ],
                          [
                            0.7777777777777778,
                            "#fb9f3a"
                          ],
                          [
                            0.8888888888888888,
                            "#fdca26"
                          ],
                          [
                            1,
                            "#f0f921"
                          ]
                        ],
                        "type": "contour"
                      }
                    ],
                    "contourcarpet": [
                      {
                        "colorbar": {
                          "outlinewidth": 0,
                          "ticks": ""
                        },
                        "type": "contourcarpet"
                      }
                    ],
                    "heatmap": [
                      {
                        "colorbar": {
                          "outlinewidth": 0,
                          "ticks": ""
                        },
                        "colorscale": [
                          [
                            0,
                            "#0d0887"
                          ],
                          [
                            0.1111111111111111,
                            "#46039f"
                          ],
                          [
                            0.2222222222222222,
                            "#7201a8"
                          ],
                          [
                            0.3333333333333333,
                            "#9c179e"
                          ],
                          [
                            0.4444444444444444,
                            "#bd3786"
                          ],
                          [
                            0.5555555555555556,
                            "#d8576b"
                          ],
                          [
                            0.6666666666666666,
                            "#ed7953"
                          ],
                          [
                            0.7777777777777778,
                            "#fb9f3a"
                          ],
                          [
                            0.8888888888888888,
                            "#fdca26"
                          ],
                          [
                            1,
                            "#f0f921"
                          ]
                        ],
                        "type": "heatmap"
                      }
                    ],
                    "heatmapgl": [
                      {
                        "colorbar": {
                          "outlinewidth": 0,
                          "ticks": ""
                        },
                        "colorscale": [
                          [
                            0,
                            "#0d0887"
                          ],
                          [
                            0.1111111111111111,
                            "#46039f"
                          ],
                          [
                            0.2222222222222222,
                            "#7201a8"
                          ],
                          [
                            0.3333333333333333,
                            "#9c179e"
                          ],
                          [
                            0.4444444444444444,
                            "#bd3786"
                          ],
                          [
                            0.5555555555555556,
                            "#d8576b"
                          ],
                          [
                            0.6666666666666666,
                            "#ed7953"
                          ],
                          [
                            0.7777777777777778,
                            "#fb9f3a"
                          ],
                          [
                            0.8888888888888888,
                            "#fdca26"
                          ],
                          [
                            1,
                            "#f0f921"
                          ]
                        ],
                        "type": "heatmapgl"
                      }
                    ],
                    "histogram": [
                      {
                        "marker": {
                          "colorbar": {
                            "outlinewidth": 0,
                            "ticks": ""
                          }
                        },
                        "type": "histogram"
                      }
                    ],
                    "histogram2d": [
                      {
                        "colorbar": {
                          "outlinewidth": 0,
                          "ticks": ""
                        },
                        "colorscale": [
                          [
                            0,
                            "#0d0887"
                          ],
                          [
                            0.1111111111111111,
                            "#46039f"
                          ],
                          [
                            0.2222222222222222,
                            "#7201a8"
                          ],
                          [
                            0.3333333333333333,
                            "#9c179e"
                          ],
                          [
                            0.4444444444444444,
                            "#bd3786"
                          ],
                          [
                            0.5555555555555556,
                            "#d8576b"
                          ],
                          [
                            0.6666666666666666,
                            "#ed7953"
                          ],
                          [
                            0.7777777777777778,
                            "#fb9f3a"
                          ],
                          [
                            0.8888888888888888,
                            "#fdca26"
                          ],
                          [
                            1,
                            "#f0f921"
                          ]
                        ],
                        "type": "histogram2d"
                      }
                    ],
                    "histogram2dcontour": [
                      {
                        "colorbar": {
                          "outlinewidth": 0,
                          "ticks": ""
                        },
                        "colorscale": [
                          [
                            0,
                            "#0d0887"
                          ],
                          [
                            0.1111111111111111,
                            "#46039f"
                          ],
                          [
                            0.2222222222222222,
                            "#7201a8"
                          ],
                          [
                            0.3333333333333333,
                            "#9c179e"
                          ],
                          [
                            0.4444444444444444,
                            "#bd3786"
                          ],
                          [
                            0.5555555555555556,
                            "#d8576b"
                          ],
                          [
                            0.6666666666666666,
                            "#ed7953"
                          ],
                          [
                            0.7777777777777778,
                            "#fb9f3a"
                          ],
                          [
                            0.8888888888888888,
                            "#fdca26"
                          ],
                          [
                            1,
                            "#f0f921"
                          ]
                        ],
                        "type": "histogram2dcontour"
                      }
                    ],
                    "mesh3d": [
                      {
                        "colorbar": {
                          "outlinewidth": 0,
                          "ticks": ""
                        },
                        "type": "mesh3d"
                      }
                    ],
                    "parcoords": [
                      {
                        "line": {
                          "colorbar": {
                            "outlinewidth": 0,
                            "ticks": ""
                          }
                        },
                        "type": "parcoords"
                      }
                    ],
                    "pie": [
                      {
                        "automargin": true,
                        "type": "pie"
                      }
                    ],
                    "scatter": [
                      {
                        "marker": {
                          "colorbar": {
                            "outlinewidth": 0,
                            "ticks": ""
                          }
                        },
                        "type": "scatter"
                      }
                    ],
                    "scatter3d": [
                      {
                        "line": {
                          "colorbar": {
                            "outlinewidth": 0,
                            "ticks": ""
                          }
                        },
                        "marker": {
                          "colorbar": {
                            "outlinewidth": 0,
                            "ticks": ""
                          }
                        },
                        "type": "scatter3d"
                      }
                    ],
                    "scattercarpet": [
                      {
                        "marker": {
                          "colorbar": {
                            "outlinewidth": 0,
                            "ticks": ""
                          }
                        },
                        "type": "scattercarpet"
                      }
                    ],
                    "scattergeo": [
                      {
                        "marker": {
                          "colorbar": {
                            "outlinewidth": 0,
                            "ticks": ""
                          }
                        },
                        "type": "scattergeo"
                      }
                    ],
                    "scattergl": [
                      {
                        "marker": {
                          "colorbar": {
                            "outlinewidth": 0,
                            "ticks": ""
                          }
                        },
                        "type": "scattergl"
                      }
                    ],
                    "scattermapbox": [
                      {
                        "marker": {
                          "colorbar": {
                            "outlinewidth": 0,
                            "ticks": ""
                          }
                        },
                        "type": "scattermapbox"
                      }
                    ],
                    "scatterpolar": [
                      {
                        "marker": {
                          "colorbar": {
                            "outlinewidth": 0,
                            "ticks": ""
                          }
                        },
                        "type": "scatterpolar"
                      }
                    ],
                    "scatterpolargl": [
                      {
                        "marker": {
                          "colorbar": {
                            "outlinewidth": 0,
                            "ticks": ""
                          }
                        },
                        "type": "scatterpolargl"
                      }
                    ],
                    "scatterternary": [
                      {
                        "marker": {
                          "colorbar": {
                            "outlinewidth": 0,
                            "ticks": ""
                          }
                        },
                        "type": "scatterternary"
                      }
                    ],
                    "surface": [
                      {
                        "colorbar": {
                          "outlinewidth": 0,
                          "ticks": ""
                        },
                        "colorscale": [
                          [
                            0,
                            "#0d0887"
                          ],
                          [
                            0.1111111111111111,
                            "#46039f"
                          ],
                          [
                            0.2222222222222222,
                            "#7201a8"
                          ],
                          [
                            0.3333333333333333,
                            "#9c179e"
                          ],
                          [
                            0.4444444444444444,
                            "#bd3786"
                          ],
                          [
                            0.5555555555555556,
                            "#d8576b"
                          ],
                          [
                            0.6666666666666666,
                            "#ed7953"
                          ],
                          [
                            0.7777777777777778,
                            "#fb9f3a"
                          ],
                          [
                            0.8888888888888888,
                            "#fdca26"
                          ],
                          [
                            1,
                            "#f0f921"
                          ]
                        ],
                        "type": "surface"
                      }
                    ],
                    "table": [
                      {
                        "cells": {
                          "fill": {
                            "color": "#EBF0F8"
                          },
                          "line": {
                            "color": "white"
                          }
                        },
                        "header": {
                          "fill": {
                            "color": "#C8D4E3"
                          },
                          "line": {
                            "color": "white"
                          }
                        },
                        "type": "table"
                      }
                    ]
                  },
                  "layout": {
                    "annotationdefaults": {
                      "arrowcolor": "#2a3f5f",
                      "arrowhead": 0,
                      "arrowwidth": 1
                    },
                    "autotypenumbers": "strict",
                    "coloraxis": {
                      "colorbar": {
                        "outlinewidth": 0,
                        "ticks": ""
                      }
                    },
                    "colorscale": {
                      "diverging": [
                        [
                          0,
                          "#8e0152"
                        ],
                        [
                          0.1,
                          "#c51b7d"
                        ],
                        [
                          0.2,
                          "#de77ae"
                        ],
                        [
                          0.3,
                          "#f1b6da"
                        ],
                        [
                          0.4,
                          "#fde0ef"
                        ],
                        [
                          0.5,
                          "#f7f7f7"
                        ],
                        [
                          0.6,
                          "#e6f5d0"
                        ],
                        [
                          0.7,
                          "#b8e186"
                        ],
                        [
                          0.8,
                          "#7fbc41"
                        ],
                        [
                          0.9,
                          "#4d9221"
                        ],
                        [
                          1,
                          "#276419"
                        ]
                      ],
                      "sequential": [
                        [
                          0,
                          "#0d0887"
                        ],
                        [
                          0.1111111111111111,
                          "#46039f"
                        ],
                        [
                          0.2222222222222222,
                          "#7201a8"
                        ],
                        [
                          0.3333333333333333,
                          "#9c179e"
                        ],
                        [
                          0.4444444444444444,
                          "#bd3786"
                        ],
                        [
                          0.5555555555555556,
                          "#d8576b"
                        ],
                        [
                          0.6666666666666666,
                          "#ed7953"
                        ],
                        [
                          0.7777777777777778,
                          "#fb9f3a"
                        ],
                        [
                          0.8888888888888888,
                          "#fdca26"
                        ],
                        [
                          1,
                          "#f0f921"
                        ]
                      ],
                      "sequentialminus": [
                        [
                          0,
                          "#0d0887"
                        ],
                        [
                          0.1111111111111111,
                          "#46039f"
                        ],
                        [
                          0.2222222222222222,
                          "#7201a8"
                        ],
                        [
                          0.3333333333333333,
                          "#9c179e"
                        ],
                        [
                          0.4444444444444444,
                          "#bd3786"
                        ],
                        [
                          0.5555555555555556,
                          "#d8576b"
                        ],
                        [
                          0.6666666666666666,
                          "#ed7953"
                        ],
                        [
                          0.7777777777777778,
                          "#fb9f3a"
                        ],
                        [
                          0.8888888888888888,
                          "#fdca26"
                        ],
                        [
                          1,
                          "#f0f921"
                        ]
                      ]
                    },
                    "colorway": [
                      "#636efa",
                      "#EF553B",
                      "#00cc96",
                      "#ab63fa",
                      "#FFA15A",
                      "#19d3f3",
                      "#FF6692",
                      "#B6E880",
                      "#FF97FF",
                      "#FECB52"
                    ],
                    "font": {
                      "color": "#2a3f5f"
                    },
                    "geo": {
                      "bgcolor": "white",
                      "lakecolor": "white",
                      "landcolor": "#E5ECF6",
                      "showlakes": true,
                      "showland": true,
                      "subunitcolor": "white"
                    },
                    "hoverlabel": {
                      "align": "left"
                    },
                    "hovermode": "closest",
                    "mapbox": {
                      "style": "light"
                    },
                    "paper_bgcolor": "white",
                    "plot_bgcolor": "#E5ECF6",
                    "polar": {
                      "angularaxis": {
                        "gridcolor": "white",
                        "linecolor": "white",
                        "ticks": ""
                      },
                      "bgcolor": "#E5ECF6",
                      "radialaxis": {
                        "gridcolor": "white",
                        "linecolor": "white",
                        "ticks": ""
                      }
                    },
                    "scene": {
                      "xaxis": {
                        "backgroundcolor": "#E5ECF6",
                        "gridcolor": "white",
                        "gridwidth": 2,
                        "linecolor": "white",
                        "showbackground": true,
                        "ticks": "",
                        "zerolinecolor": "white"
                      },
                      "yaxis": {
                        "backgroundcolor": "#E5ECF6",
                        "gridcolor": "white",
                        "gridwidth": 2,
                        "linecolor": "white",
                        "showbackground": true,
                        "ticks": "",
                        "zerolinecolor": "white"
                      },
                      "zaxis": {
                        "backgroundcolor": "#E5ECF6",
                        "gridcolor": "white",
                        "gridwidth": 2,
                        "linecolor": "white",
                        "showbackground": true,
                        "ticks": "",
                        "zerolinecolor": "white"
                      }
                    },
                    "shapedefaults": {
                      "line": {
                        "color": "#2a3f5f"
                      }
                    },
                    "ternary": {
                      "aaxis": {
                        "gridcolor": "white",
                        "linecolor": "white",
                        "ticks": ""
                      },
                      "baxis": {
                        "gridcolor": "white",
                        "linecolor": "white",
                        "ticks": ""
                      },
                      "bgcolor": "#E5ECF6",
                      "caxis": {
                        "gridcolor": "white",
                        "linecolor": "white",
                        "ticks": ""
                      }
                    },
                    "title": {
                      "x": 0.05
                    },
                    "xaxis": {
                      "automargin": true,
                      "gridcolor": "white",
                      "linecolor": "white",
                      "ticks": "",
                      "title": {
                        "standoff": 15
                      },
                      "zerolinecolor": "white",
                      "zerolinewidth": 2
                    },
                    "yaxis": {
                      "automargin": true,
                      "gridcolor": "white",
                      "linecolor": "white",
                      "ticks": "",
                      "title": {
                        "standoff": 15
                      },
                      "zerolinecolor": "white",
                      "zerolinewidth": 2
                    }
                  }
                },
                "xaxis": {
                  "anchor": "y",
                  "domain": [
                    0,
                    1
                  ],
                  "title": {
                    "text": "index"
                  }
                },
                "yaxis": {
                  "anchor": "x",
                  "domain": [
                    0,
                    1
                  ],
                  "title": {
                    "text": "value"
                  }
                }
              }
            },
            "text/html": [
              "<div>                            <div id=\"2a4650a2-d476-451b-874d-050590b0e7f7\" class=\"plotly-graph-div\" style=\"height:525px; width:100%;\"></div>            <script type=\"text/javascript\">                require([\"plotly\"], function(Plotly) {                    window.PLOTLYENV=window.PLOTLYENV || {};                                    if (document.getElementById(\"2a4650a2-d476-451b-874d-050590b0e7f7\")) {                    Plotly.newPlot(                        \"2a4650a2-d476-451b-874d-050590b0e7f7\",                        [{\"hovertemplate\": \"variable=I<br>index=%{x}<br>value=%{y}<extra></extra>\", \"legendgroup\": \"I\", \"line\": {\"color\": \"#636efa\", \"dash\": \"solid\"}, \"mode\": \"lines\", \"name\": \"I\", \"orientation\": \"v\", \"showlegend\": true, \"type\": \"scatter\", \"x\": [0, 1, 2, 3, 4, 5, 6, 7, 8, 9, 10], \"xaxis\": \"x\", \"y\": [10.0, 10.0, 10.0, 10.0, 10.0, 10.0, 10.0, 10.0, 10.0, 10.0, 10.0], \"yaxis\": \"y\"}, {\"hovertemplate\": \"variable=dPdt<br>index=%{x}<br>value=%{y}<extra></extra>\", \"legendgroup\": \"dPdt\", \"line\": {\"color\": \"#EF553B\", \"dash\": \"solid\"}, \"mode\": \"lines\", \"name\": \"dPdt\", \"orientation\": \"v\", \"showlegend\": true, \"type\": \"scatter\", \"x\": [0, 1, 2, 3, 4, 5, 6, 7, 8, 9, 10], \"xaxis\": \"x\", \"y\": [10.6, 10.820388349514563, 11.054429441028335, 11.170392935667468, 11.239026097381704, 11.284231106269104, 11.31619690692884, 11.339971953643325, 11.358334920778022, 11.372938623976363, 11.38482666156343], \"yaxis\": \"y\"}, {\"hovertemplate\": \"variable=P<br>index=%{x}<br>value=%{y}<extra></extra>\", \"legendgroup\": \"P\", \"line\": {\"color\": \"#00cc96\", \"dash\": \"solid\"}, \"mode\": \"lines\", \"name\": \"P\", \"orientation\": \"v\", \"showlegend\": true, \"type\": \"scatter\", \"x\": [0, 1, 2, 3, 4, 5, 6, 7, 8, 9, 10], \"xaxis\": \"x\", \"y\": [20.6, 31.420388349514564, 42.4748177905429, 53.645210726210365, 64.88423682359206, 76.16846792986117, 87.48466483679, 98.82463679043333, 110.18297171121135, 121.55591033518772, 132.94073699675116], \"yaxis\": \"y\"}, {\"hovertemplate\": \"variable=delta P<br>index=%{x}<br>value=%{y}<extra></extra>\", \"legendgroup\": \"delta P\", \"line\": {\"color\": \"#ab63fa\", \"dash\": \"solid\"}, \"mode\": \"lines\", \"name\": \"delta P\", \"orientation\": \"v\", \"showlegend\": true, \"type\": \"scatter\", \"x\": [0, 1, 2, 3, 4, 5, 6, 7, 8, 9, 10], \"xaxis\": \"x\", \"y\": [16.9, 33.130582524271844, 49.71222668581434, 66.46781608931555, 83.3263552353881, 100.25270189479176, 117.22699725518501, 134.23695518565, 151.27445756681703, 168.33386550278158, 185.41110549512672], \"yaxis\": \"y\"}, {\"hovertemplate\": \"variable=rho_P<br>index=%{x}<br>value=%{y}<extra></extra>\", \"legendgroup\": \"rho_P\", \"line\": {\"color\": \"#FFA15A\", \"dash\": \"solid\"}, \"mode\": \"lines\", \"name\": \"rho_P\", \"orientation\": \"v\", \"showlegend\": true, \"type\": \"scatter\", \"x\": [0, 1, 2, 3, 4, 5, 6, 7, 8, 9, 10], \"xaxis\": \"x\", \"y\": [0.820388349514563, 1.0544294410283348, 1.170392935667469, 1.2390260973817038, 1.284231106269103, 1.3161969069288393, 1.3399719536433252, 1.3583349207780215, 1.372938623976363, 1.3848266615634295, 1.3946899173551133], \"yaxis\": \"y\"}],                        {\"legend\": {\"title\": {\"text\": \"variable\"}, \"tracegroupgap\": 0}, \"margin\": {\"t\": 60}, \"template\": {\"data\": {\"bar\": [{\"error_x\": {\"color\": \"#2a3f5f\"}, \"error_y\": {\"color\": \"#2a3f5f\"}, \"marker\": {\"line\": {\"color\": \"#E5ECF6\", \"width\": 0.5}}, \"type\": \"bar\"}], \"barpolar\": [{\"marker\": {\"line\": {\"color\": \"#E5ECF6\", \"width\": 0.5}}, \"type\": \"barpolar\"}], \"carpet\": [{\"aaxis\": {\"endlinecolor\": \"#2a3f5f\", \"gridcolor\": \"white\", \"linecolor\": \"white\", \"minorgridcolor\": \"white\", \"startlinecolor\": \"#2a3f5f\"}, \"baxis\": {\"endlinecolor\": \"#2a3f5f\", \"gridcolor\": \"white\", \"linecolor\": \"white\", \"minorgridcolor\": \"white\", \"startlinecolor\": \"#2a3f5f\"}, \"type\": \"carpet\"}], \"choropleth\": [{\"colorbar\": {\"outlinewidth\": 0, \"ticks\": \"\"}, \"type\": \"choropleth\"}], \"contour\": [{\"colorbar\": {\"outlinewidth\": 0, \"ticks\": \"\"}, \"colorscale\": [[0.0, \"#0d0887\"], [0.1111111111111111, \"#46039f\"], [0.2222222222222222, \"#7201a8\"], [0.3333333333333333, \"#9c179e\"], [0.4444444444444444, \"#bd3786\"], [0.5555555555555556, \"#d8576b\"], [0.6666666666666666, \"#ed7953\"], [0.7777777777777778, \"#fb9f3a\"], [0.8888888888888888, \"#fdca26\"], [1.0, \"#f0f921\"]], \"type\": \"contour\"}], \"contourcarpet\": [{\"colorbar\": {\"outlinewidth\": 0, \"ticks\": \"\"}, \"type\": \"contourcarpet\"}], \"heatmap\": [{\"colorbar\": {\"outlinewidth\": 0, \"ticks\": \"\"}, \"colorscale\": [[0.0, \"#0d0887\"], [0.1111111111111111, \"#46039f\"], [0.2222222222222222, \"#7201a8\"], [0.3333333333333333, \"#9c179e\"], [0.4444444444444444, \"#bd3786\"], [0.5555555555555556, \"#d8576b\"], [0.6666666666666666, \"#ed7953\"], [0.7777777777777778, \"#fb9f3a\"], [0.8888888888888888, \"#fdca26\"], [1.0, \"#f0f921\"]], \"type\": \"heatmap\"}], \"heatmapgl\": [{\"colorbar\": {\"outlinewidth\": 0, \"ticks\": \"\"}, \"colorscale\": [[0.0, \"#0d0887\"], [0.1111111111111111, \"#46039f\"], [0.2222222222222222, \"#7201a8\"], [0.3333333333333333, \"#9c179e\"], [0.4444444444444444, \"#bd3786\"], [0.5555555555555556, \"#d8576b\"], [0.6666666666666666, \"#ed7953\"], [0.7777777777777778, \"#fb9f3a\"], [0.8888888888888888, \"#fdca26\"], [1.0, \"#f0f921\"]], \"type\": \"heatmapgl\"}], \"histogram\": [{\"marker\": {\"colorbar\": {\"outlinewidth\": 0, \"ticks\": \"\"}}, \"type\": \"histogram\"}], \"histogram2d\": [{\"colorbar\": {\"outlinewidth\": 0, \"ticks\": \"\"}, \"colorscale\": [[0.0, \"#0d0887\"], [0.1111111111111111, \"#46039f\"], [0.2222222222222222, \"#7201a8\"], [0.3333333333333333, \"#9c179e\"], [0.4444444444444444, \"#bd3786\"], [0.5555555555555556, \"#d8576b\"], [0.6666666666666666, \"#ed7953\"], [0.7777777777777778, \"#fb9f3a\"], [0.8888888888888888, \"#fdca26\"], [1.0, \"#f0f921\"]], \"type\": \"histogram2d\"}], \"histogram2dcontour\": [{\"colorbar\": {\"outlinewidth\": 0, \"ticks\": \"\"}, \"colorscale\": [[0.0, \"#0d0887\"], [0.1111111111111111, \"#46039f\"], [0.2222222222222222, \"#7201a8\"], [0.3333333333333333, \"#9c179e\"], [0.4444444444444444, \"#bd3786\"], [0.5555555555555556, \"#d8576b\"], [0.6666666666666666, \"#ed7953\"], [0.7777777777777778, \"#fb9f3a\"], [0.8888888888888888, \"#fdca26\"], [1.0, \"#f0f921\"]], \"type\": \"histogram2dcontour\"}], \"mesh3d\": [{\"colorbar\": {\"outlinewidth\": 0, \"ticks\": \"\"}, \"type\": \"mesh3d\"}], \"parcoords\": [{\"line\": {\"colorbar\": {\"outlinewidth\": 0, \"ticks\": \"\"}}, \"type\": \"parcoords\"}], \"pie\": [{\"automargin\": true, \"type\": \"pie\"}], \"scatter\": [{\"marker\": {\"colorbar\": {\"outlinewidth\": 0, \"ticks\": \"\"}}, \"type\": \"scatter\"}], \"scatter3d\": [{\"line\": {\"colorbar\": {\"outlinewidth\": 0, \"ticks\": \"\"}}, \"marker\": {\"colorbar\": {\"outlinewidth\": 0, \"ticks\": \"\"}}, \"type\": \"scatter3d\"}], \"scattercarpet\": [{\"marker\": {\"colorbar\": {\"outlinewidth\": 0, \"ticks\": \"\"}}, \"type\": \"scattercarpet\"}], \"scattergeo\": [{\"marker\": {\"colorbar\": {\"outlinewidth\": 0, \"ticks\": \"\"}}, \"type\": \"scattergeo\"}], \"scattergl\": [{\"marker\": {\"colorbar\": {\"outlinewidth\": 0, \"ticks\": \"\"}}, \"type\": \"scattergl\"}], \"scattermapbox\": [{\"marker\": {\"colorbar\": {\"outlinewidth\": 0, \"ticks\": \"\"}}, \"type\": \"scattermapbox\"}], \"scatterpolar\": [{\"marker\": {\"colorbar\": {\"outlinewidth\": 0, \"ticks\": \"\"}}, \"type\": \"scatterpolar\"}], \"scatterpolargl\": [{\"marker\": {\"colorbar\": {\"outlinewidth\": 0, \"ticks\": \"\"}}, \"type\": \"scatterpolargl\"}], \"scatterternary\": [{\"marker\": {\"colorbar\": {\"outlinewidth\": 0, \"ticks\": \"\"}}, \"type\": \"scatterternary\"}], \"surface\": [{\"colorbar\": {\"outlinewidth\": 0, \"ticks\": \"\"}, \"colorscale\": [[0.0, \"#0d0887\"], [0.1111111111111111, \"#46039f\"], [0.2222222222222222, \"#7201a8\"], [0.3333333333333333, \"#9c179e\"], [0.4444444444444444, \"#bd3786\"], [0.5555555555555556, \"#d8576b\"], [0.6666666666666666, \"#ed7953\"], [0.7777777777777778, \"#fb9f3a\"], [0.8888888888888888, \"#fdca26\"], [1.0, \"#f0f921\"]], \"type\": \"surface\"}], \"table\": [{\"cells\": {\"fill\": {\"color\": \"#EBF0F8\"}, \"line\": {\"color\": \"white\"}}, \"header\": {\"fill\": {\"color\": \"#C8D4E3\"}, \"line\": {\"color\": \"white\"}}, \"type\": \"table\"}]}, \"layout\": {\"annotationdefaults\": {\"arrowcolor\": \"#2a3f5f\", \"arrowhead\": 0, \"arrowwidth\": 1}, \"autotypenumbers\": \"strict\", \"coloraxis\": {\"colorbar\": {\"outlinewidth\": 0, \"ticks\": \"\"}}, \"colorscale\": {\"diverging\": [[0, \"#8e0152\"], [0.1, \"#c51b7d\"], [0.2, \"#de77ae\"], [0.3, \"#f1b6da\"], [0.4, \"#fde0ef\"], [0.5, \"#f7f7f7\"], [0.6, \"#e6f5d0\"], [0.7, \"#b8e186\"], [0.8, \"#7fbc41\"], [0.9, \"#4d9221\"], [1, \"#276419\"]], \"sequential\": [[0.0, \"#0d0887\"], [0.1111111111111111, \"#46039f\"], [0.2222222222222222, \"#7201a8\"], [0.3333333333333333, \"#9c179e\"], [0.4444444444444444, \"#bd3786\"], [0.5555555555555556, \"#d8576b\"], [0.6666666666666666, \"#ed7953\"], [0.7777777777777778, \"#fb9f3a\"], [0.8888888888888888, \"#fdca26\"], [1.0, \"#f0f921\"]], \"sequentialminus\": [[0.0, \"#0d0887\"], [0.1111111111111111, \"#46039f\"], [0.2222222222222222, \"#7201a8\"], [0.3333333333333333, \"#9c179e\"], [0.4444444444444444, \"#bd3786\"], [0.5555555555555556, \"#d8576b\"], [0.6666666666666666, \"#ed7953\"], [0.7777777777777778, \"#fb9f3a\"], [0.8888888888888888, \"#fdca26\"], [1.0, \"#f0f921\"]]}, \"colorway\": [\"#636efa\", \"#EF553B\", \"#00cc96\", \"#ab63fa\", \"#FFA15A\", \"#19d3f3\", \"#FF6692\", \"#B6E880\", \"#FF97FF\", \"#FECB52\"], \"font\": {\"color\": \"#2a3f5f\"}, \"geo\": {\"bgcolor\": \"white\", \"lakecolor\": \"white\", \"landcolor\": \"#E5ECF6\", \"showlakes\": true, \"showland\": true, \"subunitcolor\": \"white\"}, \"hoverlabel\": {\"align\": \"left\"}, \"hovermode\": \"closest\", \"mapbox\": {\"style\": \"light\"}, \"paper_bgcolor\": \"white\", \"plot_bgcolor\": \"#E5ECF6\", \"polar\": {\"angularaxis\": {\"gridcolor\": \"white\", \"linecolor\": \"white\", \"ticks\": \"\"}, \"bgcolor\": \"#E5ECF6\", \"radialaxis\": {\"gridcolor\": \"white\", \"linecolor\": \"white\", \"ticks\": \"\"}}, \"scene\": {\"xaxis\": {\"backgroundcolor\": \"#E5ECF6\", \"gridcolor\": \"white\", \"gridwidth\": 2, \"linecolor\": \"white\", \"showbackground\": true, \"ticks\": \"\", \"zerolinecolor\": \"white\"}, \"yaxis\": {\"backgroundcolor\": \"#E5ECF6\", \"gridcolor\": \"white\", \"gridwidth\": 2, \"linecolor\": \"white\", \"showbackground\": true, \"ticks\": \"\", \"zerolinecolor\": \"white\"}, \"zaxis\": {\"backgroundcolor\": \"#E5ECF6\", \"gridcolor\": \"white\", \"gridwidth\": 2, \"linecolor\": \"white\", \"showbackground\": true, \"ticks\": \"\", \"zerolinecolor\": \"white\"}}, \"shapedefaults\": {\"line\": {\"color\": \"#2a3f5f\"}}, \"ternary\": {\"aaxis\": {\"gridcolor\": \"white\", \"linecolor\": \"white\", \"ticks\": \"\"}, \"baxis\": {\"gridcolor\": \"white\", \"linecolor\": \"white\", \"ticks\": \"\"}, \"bgcolor\": \"#E5ECF6\", \"caxis\": {\"gridcolor\": \"white\", \"linecolor\": \"white\", \"ticks\": \"\"}}, \"title\": {\"x\": 0.05}, \"xaxis\": {\"automargin\": true, \"gridcolor\": \"white\", \"linecolor\": \"white\", \"ticks\": \"\", \"title\": {\"standoff\": 15}, \"zerolinecolor\": \"white\", \"zerolinewidth\": 2}, \"yaxis\": {\"automargin\": true, \"gridcolor\": \"white\", \"linecolor\": \"white\", \"ticks\": \"\", \"title\": {\"standoff\": 15}, \"zerolinecolor\": \"white\", \"zerolinewidth\": 2}}}, \"xaxis\": {\"anchor\": \"y\", \"domain\": [0.0, 1.0], \"title\": {\"text\": \"index\"}}, \"yaxis\": {\"anchor\": \"x\", \"domain\": [0.0, 1.0], \"title\": {\"text\": \"value\"}}},                        {\"responsive\": true}                    ).then(function(){\n",
              "                            \n",
              "var gd = document.getElementById('2a4650a2-d476-451b-874d-050590b0e7f7');\n",
              "var x = new MutationObserver(function (mutations, observer) {{\n",
              "        var display = window.getComputedStyle(gd).display;\n",
              "        if (!display || display === 'none') {{\n",
              "            console.log([gd, 'removed!']);\n",
              "            Plotly.purge(gd);\n",
              "            observer.disconnect();\n",
              "        }}\n",
              "}});\n",
              "\n",
              "// Listen for the removal of the full notebook cells\n",
              "var notebookContainer = gd.closest('#notebook-container');\n",
              "if (notebookContainer) {{\n",
              "    x.observe(notebookContainer, {childList: true});\n",
              "}}\n",
              "\n",
              "// Listen for the clearing of the current output cell\n",
              "var outputEl = gd.closest('.output');\n",
              "if (outputEl) {{\n",
              "    x.observe(outputEl, {childList: true});\n",
              "}}\n",
              "\n",
              "                        })                };                });            </script>        </div>"
            ]
          },
          "metadata": {
            "tags": []
          }
        }
      ]
    },
    {
      "cell_type": "code",
      "metadata": {
        "id": "IRuJiUDe2PMA",
        "outputId": "e9981d30-433c-41c8-fcf4-f17fad454e1d"
      },
      "source": [
        "def deriv(y, t, I, beta):\n",
        "    P, delta_P = y\n",
        "    rho_P = delta_P / P\n",
        "    dPdt = rho_P * I\n",
        "    ddelta_Pdt = beta * dPdt\n",
        "    return dPdt, ddelta_Pdt\n",
        "\n",
        "t = np.linspace(1, 10, 10)\n",
        "\n",
        "y0 = 10, 1\n",
        "I, C = 10, 10\n",
        "delta_C = 1\n",
        "beta = .2\n",
        "ret = odeint(deriv, y0, t, args = (I, beta))\n",
        "P, delta_P = ret.T\n",
        "\n",
        "jars_results = pd.DataFrame({'t': t, 'I': I, 'C': C, 'P':P, 'delta_C':delta_C, 'delta_P':delta_P})\n",
        "print(jars_results)"
      ],
      "execution_count": null,
      "outputs": [
        {
          "output_type": "stream",
          "text": [
            "      t   I   C          P  delta_C   delta_P\n",
            "0   1.0  10  10  10.000000        1  1.000000\n",
            "1   2.0  10  10  11.048302        1  1.209660\n",
            "2   3.0  10  10  12.186305        1  1.437261\n",
            "3   4.0  10  10  13.403781        1  1.680756\n",
            "4   5.0  10  10  14.691133        1  1.938227\n",
            "5   6.0  10  10  16.039700        1  2.207940\n",
            "6   7.0  10  10  17.441858        1  2.488372\n",
            "7   8.0  10  10  18.890988        1  2.778198\n",
            "8   9.0  10  10  20.381396        1  3.076279\n",
            "9  10.0  10  10  21.908197        1  3.381639\n"
          ],
          "name": "stdout"
        }
      ]
    },
    {
      "cell_type": "markdown",
      "metadata": {
        "id": "xBOjb_WO2PMB"
      },
      "source": [
        "## Combined Jam and Jars"
      ]
    },
    {
      "cell_type": "code",
      "metadata": {
        "id": "BoyAyTT22PMB"
      },
      "source": [
        "C=10\n",
        "P = 10\n",
        "delta_C=1\n",
        "delta_P=1\n",
        "alpha = 1.1\n",
        "beta = 1.3\n",
        "I_C = .7\n",
        "I_P = 10\n",
        "rho_C =.6\n",
        "rho_p = .3\n",
        "results = []\n",
        "current_day = 0\n",
        "time=10\n",
        "\n",
        "while current_day <= time:\n",
        "    dIdt = rho_P * I_P\n",
        "    dIdt = -rho_C * I_C\n",
        "    \n",
        "    dCdt = -rho_C*I_C\n",
        "    C += dCdt\n",
        "    \n",
        "    dPdt = 0\n",
        "    P += dPdt\n",
        "    \n",
        "    dPdt = rho_C*I_C\n",
        "    P += dPdt\n",
        "    \n",
        "    \n",
        "    \n",
        "    dPdt = rho_P + I_P\n",
        "    P += dPdt\n",
        "    \n",
        "    dDPdt = beta*rho_C*I_C\n",
        "    \n",
        "    dDPdt = beta* dPdt\n",
        "    delta_P += dDPdt\n",
        "    \n",
        "    \n",
        "    ################\n",
        "    \n",
        "    \n",
        "    \n",
        "    \n",
        "    \n",
        "    \n",
        "    \n",
        "    \n",
        "    dCdt = rho_C*I_C\n",
        "    C += dCdt\n",
        "    \n",
        "    dPdt = -rho_C*I_C\n",
        "    P += dPdt\n",
        "    \n",
        "    dEdt=0\n",
        "    \n",
        "    NI = rho_C * I_C\n",
        "    \n",
        "    dIdt = NI - rho_C\n",
        "    \n",
        "    dCdt = rho_C*I_C\n",
        "    C += dCdt\n",
        "    \n",
        "    dDCdt = alpha * dCdt\n",
        "    delta_C += dDCdt\n",
        "    \n",
        "    dDPdt = beta * dCdt\n",
        "    delta_P += dDPdt\n",
        "    \n",
        "    \n",
        "    \n",
        "    rho_P = delta_P / P\n",
        "    rho_C = delta_C/C\n",
        "    \n",
        "    \n",
        "    day_results = {\n",
        "        'I': I,\n",
        "        'C': C,\n",
        "        'P': P,\n",
        "        'delta_C': delta_C,\n",
        "        'delta_P': delta_P,\n",
        "    }\n",
        "    results.append(day_results)\n",
        "    current_day += 1\n",
        "df = pd.DataFrame(results)\n",
        "print(df)"
      ],
      "execution_count": null,
      "outputs": []
    },
    {
      "cell_type": "markdown",
      "metadata": {
        "id": "e4e14MJz2PMB"
      },
      "source": [
        "## Something More"
      ]
    },
    {
      "cell_type": "code",
      "metadata": {
        "id": "m__P8rmo2PMC",
        "outputId": "fd5c41e4-3644-4f14-9255-af9af61f7bda"
      },
      "source": [
        "## MI comes twice.\n",
        "C = 10\n",
        "P = 10\n",
        "results = []\n",
        "current_day = 0\n",
        "time = 10\n",
        "dPdt = 10\n",
        "E = 0\n",
        "I = 0\n",
        "# production diversity\n",
        "delta_P = 1\n",
        "# consumption diversity\n",
        "delta_C = 1\n",
        "beta = 1.7\n",
        "alpha = 1.3\n",
        "gamma = 1.5\n",
        "MI = 2\n",
        "NI = 1\n",
        "nu_n = 2\n",
        "nu_I = 5\n",
        "previous_MI = 10\n",
        "while current_day <= time:\n",
        "    \n",
        "    #MI(t-1) =  dPdt(t-1) * P_t(t-1)/ Ct-1 + P(t-1)\n",
        "    # Something new comes in and is added to production\n",
        "    # Since there is no MI at this point dPdt is = something new\n",
        "    # X = MI_(t-1)* nu_n\n",
        "    # dPdt = MI(t-1) + X = MI(t-1) + MI_(t-1)* nu_n = MI(t-1)* (1+ nu_n)\n",
        "    dPdt = MI*(1 + nu_n)\n",
        "    dCdt = NI*(1 + nu_n)\n",
        "    P += dPdt\n",
        "    # Explicitly increment these boxes\n",
        "    # Save MI and NI \n",
        "    \n",
        "    NI = (dPdt * C)/(C + P)\n",
        "    MI = (dPdt * P)/(C + P)\n",
        "    E += dPdt\n",
        "    I = E\n",
        "    C += NI\n",
        "    P += MI\n",
        "    # Consumption Diversity\n",
        "    delta_C += alpha * dCdt\n",
        "    \n",
        "    rho_P = delta_P / P\n",
        "    rho_C = delta_C / C\n",
        "    nu_n = gamma * delta_P / P\n",
        "    \n",
        "    day_results = {\n",
        "        'dCdt': dCdt,\n",
        "        'C': C,\n",
        "        'dPdt': dPdt,\n",
        "        'P': P,\n",
        "        'delta_P': delta_P,\n",
        "        'delta_C': delta_C,\n",
        "        'rho_P': rho_P,\n",
        "        'rho_C': rho_C\n",
        "    }\n",
        "    old_mi  = MI \n",
        "    results.append(day_results)\n",
        "    current_day += 1\n",
        "df = pd.DataFrame(results)\n",
        "print(df)"
      ],
      "execution_count": null,
      "outputs": [
        {
          "output_type": "stream",
          "text": [
            "        dCdt          C      dPdt          P  delta_P    delta_C     rho_P  \\\n",
            "0   3.000000  12.307692  6.000000  19.692308        1   4.900000  0.050781   \n",
            "1   2.483474  13.667172  3.973558  26.279943        1   8.128516  0.038052   \n",
            "2   1.437076  14.551413  2.763284  30.922270        1   9.996714  0.032339   \n",
            "3   0.927134  15.155687  1.970193  34.258382        1  11.201989  0.029190   \n",
            "4   0.630732  15.580705  1.425726  36.684815        1  12.021940  0.027259   \n",
            "5   0.442397  15.885153  1.041625  38.463617        1  12.597056  0.025999   \n",
            "6   0.316321  16.105908  0.765925  39.774713        1  13.008273  0.025142   \n",
            "7   0.229080  16.267328  0.565730  40.744752        1  13.306077  0.024543   \n",
            "8   0.167363  16.386065  0.419194  41.464404        1  13.523649  0.024117   \n",
            "9   0.123032  16.473776  0.311327  41.999348        1  13.683590  0.023810   \n",
            "10  0.090844  16.538768  0.231603  42.397561        1  13.801687  0.023586   \n",
            "\n",
            "       rho_C  \n",
            "0   0.398125  \n",
            "1   0.594747  \n",
            "2   0.686993  \n",
            "3   0.739128  \n",
            "4   0.771592  \n",
            "5   0.793008  \n",
            "6   0.807671  \n",
            "7   0.817963  \n",
            "8   0.825314  \n",
            "9   0.830629  \n",
            "10  0.834505  \n"
          ],
          "name": "stdout"
        }
      ]
    },
    {
      "cell_type": "code",
      "metadata": {
        "id": "vZ4DYEaa2PMD",
        "outputId": "cb0f49fd-6a33-4514-ec5f-892f258b95bb"
      },
      "source": [
        "df.plot()"
      ],
      "execution_count": null,
      "outputs": [
        {
          "output_type": "display_data",
          "data": {
            "application/vnd.plotly.v1+json": {
              "config": {
                "plotlyServerURL": "https://plot.ly"
              },
              "data": [
                {
                  "hovertemplate": "variable=dCdt<br>index=%{x}<br>value=%{y}<extra></extra>",
                  "legendgroup": "dCdt",
                  "line": {
                    "color": "#636efa",
                    "dash": "solid"
                  },
                  "mode": "lines",
                  "name": "dCdt",
                  "orientation": "v",
                  "showlegend": true,
                  "type": "scatter",
                  "x": [
                    0,
                    1,
                    2,
                    3,
                    4,
                    5,
                    6,
                    7,
                    8,
                    9,
                    10
                  ],
                  "xaxis": "x",
                  "y": [
                    3,
                    2.4834735576923075,
                    1.4370758590609034,
                    0.9271340674716566,
                    0.6307318455038482,
                    0.44239700514074315,
                    0.3163208019612399,
                    0.22908015562495965,
                    0.16736310934489004,
                    0.1230315016551553,
                    0.0908435599215017
                  ],
                  "yaxis": "y"
                },
                {
                  "hovertemplate": "variable=C<br>index=%{x}<br>value=%{y}<extra></extra>",
                  "legendgroup": "C",
                  "line": {
                    "color": "#EF553B",
                    "dash": "solid"
                  },
                  "mode": "lines",
                  "name": "C",
                  "orientation": "v",
                  "showlegend": true,
                  "type": "scatter",
                  "x": [
                    0,
                    1,
                    2,
                    3,
                    4,
                    5,
                    6,
                    7,
                    8,
                    9,
                    10
                  ],
                  "xaxis": "x",
                  "y": [
                    12.307692307692307,
                    13.667172119561027,
                    14.551412795743088,
                    15.15568657116399,
                    15.580705057803662,
                    15.885153030372964,
                    16.105907986078044,
                    16.26732847177403,
                    16.386064621145437,
                    16.47377559755399,
                    16.538768154811695
                  ],
                  "yaxis": "y"
                },
                {
                  "hovertemplate": "variable=dPdt<br>index=%{x}<br>value=%{y}<extra></extra>",
                  "legendgroup": "dPdt",
                  "line": {
                    "color": "#00cc96",
                    "dash": "solid"
                  },
                  "mode": "lines",
                  "name": "dPdt",
                  "orientation": "v",
                  "showlegend": true,
                  "type": "scatter",
                  "x": [
                    0,
                    1,
                    2,
                    3,
                    4,
                    5,
                    6,
                    7,
                    8,
                    9,
                    10
                  ],
                  "xaxis": "x",
                  "y": [
                    6,
                    3.9735576923076925,
                    2.7632835610262885,
                    1.9701928668350557,
                    1.4257257295941719,
                    1.0416250144927133,
                    0.7659253931656562,
                    0.5657301248649634,
                    0.4191941193689148,
                    0.3113272194588608,
                    0.23160266145413544
                  ],
                  "yaxis": "y"
                },
                {
                  "hovertemplate": "variable=P<br>index=%{x}<br>value=%{y}<extra></extra>",
                  "legendgroup": "P",
                  "line": {
                    "color": "#ab63fa",
                    "dash": "solid"
                  },
                  "mode": "lines",
                  "name": "P",
                  "orientation": "v",
                  "showlegend": true,
                  "type": "scatter",
                  "x": [
                    0,
                    1,
                    2,
                    3,
                    4,
                    5,
                    6,
                    7,
                    8,
                    9,
                    10
                  ],
                  "xaxis": "x",
                  "y": [
                    19.692307692307693,
                    26.27994326505436,
                    30.922269710924876,
                    34.258381669174085,
                    36.68481464172275,
                    38.46361669813888,
                    39.774712528765114,
                    40.744752292799056,
                    41.464404382165476,
                    41.999347844674645,
                    42.39756061032521
                  ],
                  "yaxis": "y"
                },
                {
                  "hovertemplate": "variable=delta_P<br>index=%{x}<br>value=%{y}<extra></extra>",
                  "legendgroup": "delta_P",
                  "line": {
                    "color": "#FFA15A",
                    "dash": "solid"
                  },
                  "mode": "lines",
                  "name": "delta_P",
                  "orientation": "v",
                  "showlegend": true,
                  "type": "scatter",
                  "x": [
                    0,
                    1,
                    2,
                    3,
                    4,
                    5,
                    6,
                    7,
                    8,
                    9,
                    10
                  ],
                  "xaxis": "x",
                  "y": [
                    1,
                    1,
                    1,
                    1,
                    1,
                    1,
                    1,
                    1,
                    1,
                    1,
                    1
                  ],
                  "yaxis": "y"
                },
                {
                  "hovertemplate": "variable=delta_C<br>index=%{x}<br>value=%{y}<extra></extra>",
                  "legendgroup": "delta_C",
                  "line": {
                    "color": "#19d3f3",
                    "dash": "solid"
                  },
                  "mode": "lines",
                  "name": "delta_C",
                  "orientation": "v",
                  "showlegend": true,
                  "type": "scatter",
                  "x": [
                    0,
                    1,
                    2,
                    3,
                    4,
                    5,
                    6,
                    7,
                    8,
                    9,
                    10
                  ],
                  "xaxis": "x",
                  "y": [
                    4.9,
                    8.128515625,
                    9.996714241779175,
                    11.20198852949233,
                    12.021939928647331,
                    12.597056035330297,
                    13.00827307787991,
                    13.306077280192357,
                    13.523649322340713,
                    13.683590274492415,
                    13.801686902390367
                  ],
                  "yaxis": "y"
                },
                {
                  "hovertemplate": "variable=rho_P<br>index=%{x}<br>value=%{y}<extra></extra>",
                  "legendgroup": "rho_P",
                  "line": {
                    "color": "#FF6692",
                    "dash": "solid"
                  },
                  "mode": "lines",
                  "name": "rho_P",
                  "orientation": "v",
                  "showlegend": true,
                  "type": "scatter",
                  "x": [
                    0,
                    1,
                    2,
                    3,
                    4,
                    5,
                    6,
                    7,
                    8,
                    9,
                    10
                  ],
                  "xaxis": "x",
                  "y": [
                    0.05078125,
                    0.03805183252924848,
                    0.03233915263492766,
                    0.029189936922788345,
                    0.027259235456587795,
                    0.025998595187965944,
                    0.0251416021995583,
                    0.024543037906177994,
                    0.024117071374842092,
                    0.02380989351782985,
                    0.02358626264352735
                  ],
                  "yaxis": "y"
                },
                {
                  "hovertemplate": "variable=rho_C<br>index=%{x}<br>value=%{y}<extra></extra>",
                  "legendgroup": "rho_C",
                  "line": {
                    "color": "#B6E880",
                    "dash": "solid"
                  },
                  "mode": "lines",
                  "name": "rho_C",
                  "orientation": "v",
                  "showlegend": true,
                  "type": "scatter",
                  "x": [
                    0,
                    1,
                    2,
                    3,
                    4,
                    5,
                    6,
                    7,
                    8,
                    9,
                    10
                  ],
                  "xaxis": "x",
                  "y": [
                    0.39812500000000006,
                    0.5947474396233094,
                    0.6869926915071534,
                    0.7391277509529541,
                    0.7715915219527304,
                    0.7930081637390769,
                    0.8076708925149869,
                    0.817963275486824,
                    0.8253140479434633,
                    0.8306286675729723,
                    0.8345051320146224
                  ],
                  "yaxis": "y"
                }
              ],
              "layout": {
                "legend": {
                  "title": {
                    "text": "variable"
                  },
                  "tracegroupgap": 0
                },
                "margin": {
                  "t": 60
                },
                "template": {
                  "data": {
                    "bar": [
                      {
                        "error_x": {
                          "color": "#2a3f5f"
                        },
                        "error_y": {
                          "color": "#2a3f5f"
                        },
                        "marker": {
                          "line": {
                            "color": "#E5ECF6",
                            "width": 0.5
                          }
                        },
                        "type": "bar"
                      }
                    ],
                    "barpolar": [
                      {
                        "marker": {
                          "line": {
                            "color": "#E5ECF6",
                            "width": 0.5
                          }
                        },
                        "type": "barpolar"
                      }
                    ],
                    "carpet": [
                      {
                        "aaxis": {
                          "endlinecolor": "#2a3f5f",
                          "gridcolor": "white",
                          "linecolor": "white",
                          "minorgridcolor": "white",
                          "startlinecolor": "#2a3f5f"
                        },
                        "baxis": {
                          "endlinecolor": "#2a3f5f",
                          "gridcolor": "white",
                          "linecolor": "white",
                          "minorgridcolor": "white",
                          "startlinecolor": "#2a3f5f"
                        },
                        "type": "carpet"
                      }
                    ],
                    "choropleth": [
                      {
                        "colorbar": {
                          "outlinewidth": 0,
                          "ticks": ""
                        },
                        "type": "choropleth"
                      }
                    ],
                    "contour": [
                      {
                        "colorbar": {
                          "outlinewidth": 0,
                          "ticks": ""
                        },
                        "colorscale": [
                          [
                            0,
                            "#0d0887"
                          ],
                          [
                            0.1111111111111111,
                            "#46039f"
                          ],
                          [
                            0.2222222222222222,
                            "#7201a8"
                          ],
                          [
                            0.3333333333333333,
                            "#9c179e"
                          ],
                          [
                            0.4444444444444444,
                            "#bd3786"
                          ],
                          [
                            0.5555555555555556,
                            "#d8576b"
                          ],
                          [
                            0.6666666666666666,
                            "#ed7953"
                          ],
                          [
                            0.7777777777777778,
                            "#fb9f3a"
                          ],
                          [
                            0.8888888888888888,
                            "#fdca26"
                          ],
                          [
                            1,
                            "#f0f921"
                          ]
                        ],
                        "type": "contour"
                      }
                    ],
                    "contourcarpet": [
                      {
                        "colorbar": {
                          "outlinewidth": 0,
                          "ticks": ""
                        },
                        "type": "contourcarpet"
                      }
                    ],
                    "heatmap": [
                      {
                        "colorbar": {
                          "outlinewidth": 0,
                          "ticks": ""
                        },
                        "colorscale": [
                          [
                            0,
                            "#0d0887"
                          ],
                          [
                            0.1111111111111111,
                            "#46039f"
                          ],
                          [
                            0.2222222222222222,
                            "#7201a8"
                          ],
                          [
                            0.3333333333333333,
                            "#9c179e"
                          ],
                          [
                            0.4444444444444444,
                            "#bd3786"
                          ],
                          [
                            0.5555555555555556,
                            "#d8576b"
                          ],
                          [
                            0.6666666666666666,
                            "#ed7953"
                          ],
                          [
                            0.7777777777777778,
                            "#fb9f3a"
                          ],
                          [
                            0.8888888888888888,
                            "#fdca26"
                          ],
                          [
                            1,
                            "#f0f921"
                          ]
                        ],
                        "type": "heatmap"
                      }
                    ],
                    "heatmapgl": [
                      {
                        "colorbar": {
                          "outlinewidth": 0,
                          "ticks": ""
                        },
                        "colorscale": [
                          [
                            0,
                            "#0d0887"
                          ],
                          [
                            0.1111111111111111,
                            "#46039f"
                          ],
                          [
                            0.2222222222222222,
                            "#7201a8"
                          ],
                          [
                            0.3333333333333333,
                            "#9c179e"
                          ],
                          [
                            0.4444444444444444,
                            "#bd3786"
                          ],
                          [
                            0.5555555555555556,
                            "#d8576b"
                          ],
                          [
                            0.6666666666666666,
                            "#ed7953"
                          ],
                          [
                            0.7777777777777778,
                            "#fb9f3a"
                          ],
                          [
                            0.8888888888888888,
                            "#fdca26"
                          ],
                          [
                            1,
                            "#f0f921"
                          ]
                        ],
                        "type": "heatmapgl"
                      }
                    ],
                    "histogram": [
                      {
                        "marker": {
                          "colorbar": {
                            "outlinewidth": 0,
                            "ticks": ""
                          }
                        },
                        "type": "histogram"
                      }
                    ],
                    "histogram2d": [
                      {
                        "colorbar": {
                          "outlinewidth": 0,
                          "ticks": ""
                        },
                        "colorscale": [
                          [
                            0,
                            "#0d0887"
                          ],
                          [
                            0.1111111111111111,
                            "#46039f"
                          ],
                          [
                            0.2222222222222222,
                            "#7201a8"
                          ],
                          [
                            0.3333333333333333,
                            "#9c179e"
                          ],
                          [
                            0.4444444444444444,
                            "#bd3786"
                          ],
                          [
                            0.5555555555555556,
                            "#d8576b"
                          ],
                          [
                            0.6666666666666666,
                            "#ed7953"
                          ],
                          [
                            0.7777777777777778,
                            "#fb9f3a"
                          ],
                          [
                            0.8888888888888888,
                            "#fdca26"
                          ],
                          [
                            1,
                            "#f0f921"
                          ]
                        ],
                        "type": "histogram2d"
                      }
                    ],
                    "histogram2dcontour": [
                      {
                        "colorbar": {
                          "outlinewidth": 0,
                          "ticks": ""
                        },
                        "colorscale": [
                          [
                            0,
                            "#0d0887"
                          ],
                          [
                            0.1111111111111111,
                            "#46039f"
                          ],
                          [
                            0.2222222222222222,
                            "#7201a8"
                          ],
                          [
                            0.3333333333333333,
                            "#9c179e"
                          ],
                          [
                            0.4444444444444444,
                            "#bd3786"
                          ],
                          [
                            0.5555555555555556,
                            "#d8576b"
                          ],
                          [
                            0.6666666666666666,
                            "#ed7953"
                          ],
                          [
                            0.7777777777777778,
                            "#fb9f3a"
                          ],
                          [
                            0.8888888888888888,
                            "#fdca26"
                          ],
                          [
                            1,
                            "#f0f921"
                          ]
                        ],
                        "type": "histogram2dcontour"
                      }
                    ],
                    "mesh3d": [
                      {
                        "colorbar": {
                          "outlinewidth": 0,
                          "ticks": ""
                        },
                        "type": "mesh3d"
                      }
                    ],
                    "parcoords": [
                      {
                        "line": {
                          "colorbar": {
                            "outlinewidth": 0,
                            "ticks": ""
                          }
                        },
                        "type": "parcoords"
                      }
                    ],
                    "pie": [
                      {
                        "automargin": true,
                        "type": "pie"
                      }
                    ],
                    "scatter": [
                      {
                        "marker": {
                          "colorbar": {
                            "outlinewidth": 0,
                            "ticks": ""
                          }
                        },
                        "type": "scatter"
                      }
                    ],
                    "scatter3d": [
                      {
                        "line": {
                          "colorbar": {
                            "outlinewidth": 0,
                            "ticks": ""
                          }
                        },
                        "marker": {
                          "colorbar": {
                            "outlinewidth": 0,
                            "ticks": ""
                          }
                        },
                        "type": "scatter3d"
                      }
                    ],
                    "scattercarpet": [
                      {
                        "marker": {
                          "colorbar": {
                            "outlinewidth": 0,
                            "ticks": ""
                          }
                        },
                        "type": "scattercarpet"
                      }
                    ],
                    "scattergeo": [
                      {
                        "marker": {
                          "colorbar": {
                            "outlinewidth": 0,
                            "ticks": ""
                          }
                        },
                        "type": "scattergeo"
                      }
                    ],
                    "scattergl": [
                      {
                        "marker": {
                          "colorbar": {
                            "outlinewidth": 0,
                            "ticks": ""
                          }
                        },
                        "type": "scattergl"
                      }
                    ],
                    "scattermapbox": [
                      {
                        "marker": {
                          "colorbar": {
                            "outlinewidth": 0,
                            "ticks": ""
                          }
                        },
                        "type": "scattermapbox"
                      }
                    ],
                    "scatterpolar": [
                      {
                        "marker": {
                          "colorbar": {
                            "outlinewidth": 0,
                            "ticks": ""
                          }
                        },
                        "type": "scatterpolar"
                      }
                    ],
                    "scatterpolargl": [
                      {
                        "marker": {
                          "colorbar": {
                            "outlinewidth": 0,
                            "ticks": ""
                          }
                        },
                        "type": "scatterpolargl"
                      }
                    ],
                    "scatterternary": [
                      {
                        "marker": {
                          "colorbar": {
                            "outlinewidth": 0,
                            "ticks": ""
                          }
                        },
                        "type": "scatterternary"
                      }
                    ],
                    "surface": [
                      {
                        "colorbar": {
                          "outlinewidth": 0,
                          "ticks": ""
                        },
                        "colorscale": [
                          [
                            0,
                            "#0d0887"
                          ],
                          [
                            0.1111111111111111,
                            "#46039f"
                          ],
                          [
                            0.2222222222222222,
                            "#7201a8"
                          ],
                          [
                            0.3333333333333333,
                            "#9c179e"
                          ],
                          [
                            0.4444444444444444,
                            "#bd3786"
                          ],
                          [
                            0.5555555555555556,
                            "#d8576b"
                          ],
                          [
                            0.6666666666666666,
                            "#ed7953"
                          ],
                          [
                            0.7777777777777778,
                            "#fb9f3a"
                          ],
                          [
                            0.8888888888888888,
                            "#fdca26"
                          ],
                          [
                            1,
                            "#f0f921"
                          ]
                        ],
                        "type": "surface"
                      }
                    ],
                    "table": [
                      {
                        "cells": {
                          "fill": {
                            "color": "#EBF0F8"
                          },
                          "line": {
                            "color": "white"
                          }
                        },
                        "header": {
                          "fill": {
                            "color": "#C8D4E3"
                          },
                          "line": {
                            "color": "white"
                          }
                        },
                        "type": "table"
                      }
                    ]
                  },
                  "layout": {
                    "annotationdefaults": {
                      "arrowcolor": "#2a3f5f",
                      "arrowhead": 0,
                      "arrowwidth": 1
                    },
                    "autotypenumbers": "strict",
                    "coloraxis": {
                      "colorbar": {
                        "outlinewidth": 0,
                        "ticks": ""
                      }
                    },
                    "colorscale": {
                      "diverging": [
                        [
                          0,
                          "#8e0152"
                        ],
                        [
                          0.1,
                          "#c51b7d"
                        ],
                        [
                          0.2,
                          "#de77ae"
                        ],
                        [
                          0.3,
                          "#f1b6da"
                        ],
                        [
                          0.4,
                          "#fde0ef"
                        ],
                        [
                          0.5,
                          "#f7f7f7"
                        ],
                        [
                          0.6,
                          "#e6f5d0"
                        ],
                        [
                          0.7,
                          "#b8e186"
                        ],
                        [
                          0.8,
                          "#7fbc41"
                        ],
                        [
                          0.9,
                          "#4d9221"
                        ],
                        [
                          1,
                          "#276419"
                        ]
                      ],
                      "sequential": [
                        [
                          0,
                          "#0d0887"
                        ],
                        [
                          0.1111111111111111,
                          "#46039f"
                        ],
                        [
                          0.2222222222222222,
                          "#7201a8"
                        ],
                        [
                          0.3333333333333333,
                          "#9c179e"
                        ],
                        [
                          0.4444444444444444,
                          "#bd3786"
                        ],
                        [
                          0.5555555555555556,
                          "#d8576b"
                        ],
                        [
                          0.6666666666666666,
                          "#ed7953"
                        ],
                        [
                          0.7777777777777778,
                          "#fb9f3a"
                        ],
                        [
                          0.8888888888888888,
                          "#fdca26"
                        ],
                        [
                          1,
                          "#f0f921"
                        ]
                      ],
                      "sequentialminus": [
                        [
                          0,
                          "#0d0887"
                        ],
                        [
                          0.1111111111111111,
                          "#46039f"
                        ],
                        [
                          0.2222222222222222,
                          "#7201a8"
                        ],
                        [
                          0.3333333333333333,
                          "#9c179e"
                        ],
                        [
                          0.4444444444444444,
                          "#bd3786"
                        ],
                        [
                          0.5555555555555556,
                          "#d8576b"
                        ],
                        [
                          0.6666666666666666,
                          "#ed7953"
                        ],
                        [
                          0.7777777777777778,
                          "#fb9f3a"
                        ],
                        [
                          0.8888888888888888,
                          "#fdca26"
                        ],
                        [
                          1,
                          "#f0f921"
                        ]
                      ]
                    },
                    "colorway": [
                      "#636efa",
                      "#EF553B",
                      "#00cc96",
                      "#ab63fa",
                      "#FFA15A",
                      "#19d3f3",
                      "#FF6692",
                      "#B6E880",
                      "#FF97FF",
                      "#FECB52"
                    ],
                    "font": {
                      "color": "#2a3f5f"
                    },
                    "geo": {
                      "bgcolor": "white",
                      "lakecolor": "white",
                      "landcolor": "#E5ECF6",
                      "showlakes": true,
                      "showland": true,
                      "subunitcolor": "white"
                    },
                    "hoverlabel": {
                      "align": "left"
                    },
                    "hovermode": "closest",
                    "mapbox": {
                      "style": "light"
                    },
                    "paper_bgcolor": "white",
                    "plot_bgcolor": "#E5ECF6",
                    "polar": {
                      "angularaxis": {
                        "gridcolor": "white",
                        "linecolor": "white",
                        "ticks": ""
                      },
                      "bgcolor": "#E5ECF6",
                      "radialaxis": {
                        "gridcolor": "white",
                        "linecolor": "white",
                        "ticks": ""
                      }
                    },
                    "scene": {
                      "xaxis": {
                        "backgroundcolor": "#E5ECF6",
                        "gridcolor": "white",
                        "gridwidth": 2,
                        "linecolor": "white",
                        "showbackground": true,
                        "ticks": "",
                        "zerolinecolor": "white"
                      },
                      "yaxis": {
                        "backgroundcolor": "#E5ECF6",
                        "gridcolor": "white",
                        "gridwidth": 2,
                        "linecolor": "white",
                        "showbackground": true,
                        "ticks": "",
                        "zerolinecolor": "white"
                      },
                      "zaxis": {
                        "backgroundcolor": "#E5ECF6",
                        "gridcolor": "white",
                        "gridwidth": 2,
                        "linecolor": "white",
                        "showbackground": true,
                        "ticks": "",
                        "zerolinecolor": "white"
                      }
                    },
                    "shapedefaults": {
                      "line": {
                        "color": "#2a3f5f"
                      }
                    },
                    "ternary": {
                      "aaxis": {
                        "gridcolor": "white",
                        "linecolor": "white",
                        "ticks": ""
                      },
                      "baxis": {
                        "gridcolor": "white",
                        "linecolor": "white",
                        "ticks": ""
                      },
                      "bgcolor": "#E5ECF6",
                      "caxis": {
                        "gridcolor": "white",
                        "linecolor": "white",
                        "ticks": ""
                      }
                    },
                    "title": {
                      "x": 0.05
                    },
                    "xaxis": {
                      "automargin": true,
                      "gridcolor": "white",
                      "linecolor": "white",
                      "ticks": "",
                      "title": {
                        "standoff": 15
                      },
                      "zerolinecolor": "white",
                      "zerolinewidth": 2
                    },
                    "yaxis": {
                      "automargin": true,
                      "gridcolor": "white",
                      "linecolor": "white",
                      "ticks": "",
                      "title": {
                        "standoff": 15
                      },
                      "zerolinecolor": "white",
                      "zerolinewidth": 2
                    }
                  }
                },
                "xaxis": {
                  "anchor": "y",
                  "domain": [
                    0,
                    1
                  ],
                  "title": {
                    "text": "index"
                  }
                },
                "yaxis": {
                  "anchor": "x",
                  "domain": [
                    0,
                    1
                  ],
                  "title": {
                    "text": "value"
                  }
                }
              }
            },
            "text/html": [
              "<div>                            <div id=\"65d5f7cc-93c7-47a1-8589-a67535259a02\" class=\"plotly-graph-div\" style=\"height:525px; width:100%;\"></div>            <script type=\"text/javascript\">                require([\"plotly\"], function(Plotly) {                    window.PLOTLYENV=window.PLOTLYENV || {};                                    if (document.getElementById(\"65d5f7cc-93c7-47a1-8589-a67535259a02\")) {                    Plotly.newPlot(                        \"65d5f7cc-93c7-47a1-8589-a67535259a02\",                        [{\"hovertemplate\": \"variable=dCdt<br>index=%{x}<br>value=%{y}<extra></extra>\", \"legendgroup\": \"dCdt\", \"line\": {\"color\": \"#636efa\", \"dash\": \"solid\"}, \"mode\": \"lines\", \"name\": \"dCdt\", \"orientation\": \"v\", \"showlegend\": true, \"type\": \"scatter\", \"x\": [0, 1, 2, 3, 4, 5, 6, 7, 8, 9, 10], \"xaxis\": \"x\", \"y\": [3.0, 2.4834735576923075, 1.4370758590609034, 0.9271340674716566, 0.6307318455038482, 0.44239700514074315, 0.3163208019612399, 0.22908015562495965, 0.16736310934489004, 0.1230315016551553, 0.0908435599215017], \"yaxis\": \"y\"}, {\"hovertemplate\": \"variable=C<br>index=%{x}<br>value=%{y}<extra></extra>\", \"legendgroup\": \"C\", \"line\": {\"color\": \"#EF553B\", \"dash\": \"solid\"}, \"mode\": \"lines\", \"name\": \"C\", \"orientation\": \"v\", \"showlegend\": true, \"type\": \"scatter\", \"x\": [0, 1, 2, 3, 4, 5, 6, 7, 8, 9, 10], \"xaxis\": \"x\", \"y\": [12.307692307692307, 13.667172119561027, 14.551412795743088, 15.15568657116399, 15.580705057803662, 15.885153030372964, 16.105907986078044, 16.26732847177403, 16.386064621145437, 16.47377559755399, 16.538768154811695], \"yaxis\": \"y\"}, {\"hovertemplate\": \"variable=dPdt<br>index=%{x}<br>value=%{y}<extra></extra>\", \"legendgroup\": \"dPdt\", \"line\": {\"color\": \"#00cc96\", \"dash\": \"solid\"}, \"mode\": \"lines\", \"name\": \"dPdt\", \"orientation\": \"v\", \"showlegend\": true, \"type\": \"scatter\", \"x\": [0, 1, 2, 3, 4, 5, 6, 7, 8, 9, 10], \"xaxis\": \"x\", \"y\": [6.0, 3.9735576923076925, 2.7632835610262885, 1.9701928668350557, 1.4257257295941719, 1.0416250144927133, 0.7659253931656562, 0.5657301248649634, 0.4191941193689148, 0.3113272194588608, 0.23160266145413544], \"yaxis\": \"y\"}, {\"hovertemplate\": \"variable=P<br>index=%{x}<br>value=%{y}<extra></extra>\", \"legendgroup\": \"P\", \"line\": {\"color\": \"#ab63fa\", \"dash\": \"solid\"}, \"mode\": \"lines\", \"name\": \"P\", \"orientation\": \"v\", \"showlegend\": true, \"type\": \"scatter\", \"x\": [0, 1, 2, 3, 4, 5, 6, 7, 8, 9, 10], \"xaxis\": \"x\", \"y\": [19.692307692307693, 26.27994326505436, 30.922269710924876, 34.258381669174085, 36.68481464172275, 38.46361669813888, 39.774712528765114, 40.744752292799056, 41.464404382165476, 41.999347844674645, 42.39756061032521], \"yaxis\": \"y\"}, {\"hovertemplate\": \"variable=delta_P<br>index=%{x}<br>value=%{y}<extra></extra>\", \"legendgroup\": \"delta_P\", \"line\": {\"color\": \"#FFA15A\", \"dash\": \"solid\"}, \"mode\": \"lines\", \"name\": \"delta_P\", \"orientation\": \"v\", \"showlegend\": true, \"type\": \"scatter\", \"x\": [0, 1, 2, 3, 4, 5, 6, 7, 8, 9, 10], \"xaxis\": \"x\", \"y\": [1.0, 1.0, 1.0, 1.0, 1.0, 1.0, 1.0, 1.0, 1.0, 1.0, 1.0], \"yaxis\": \"y\"}, {\"hovertemplate\": \"variable=delta_C<br>index=%{x}<br>value=%{y}<extra></extra>\", \"legendgroup\": \"delta_C\", \"line\": {\"color\": \"#19d3f3\", \"dash\": \"solid\"}, \"mode\": \"lines\", \"name\": \"delta_C\", \"orientation\": \"v\", \"showlegend\": true, \"type\": \"scatter\", \"x\": [0, 1, 2, 3, 4, 5, 6, 7, 8, 9, 10], \"xaxis\": \"x\", \"y\": [4.9, 8.128515625, 9.996714241779175, 11.20198852949233, 12.021939928647331, 12.597056035330297, 13.00827307787991, 13.306077280192357, 13.523649322340713, 13.683590274492415, 13.801686902390367], \"yaxis\": \"y\"}, {\"hovertemplate\": \"variable=rho_P<br>index=%{x}<br>value=%{y}<extra></extra>\", \"legendgroup\": \"rho_P\", \"line\": {\"color\": \"#FF6692\", \"dash\": \"solid\"}, \"mode\": \"lines\", \"name\": \"rho_P\", \"orientation\": \"v\", \"showlegend\": true, \"type\": \"scatter\", \"x\": [0, 1, 2, 3, 4, 5, 6, 7, 8, 9, 10], \"xaxis\": \"x\", \"y\": [0.05078125, 0.03805183252924848, 0.03233915263492766, 0.029189936922788345, 0.027259235456587795, 0.025998595187965944, 0.0251416021995583, 0.024543037906177994, 0.024117071374842092, 0.02380989351782985, 0.02358626264352735], \"yaxis\": \"y\"}, {\"hovertemplate\": \"variable=rho_C<br>index=%{x}<br>value=%{y}<extra></extra>\", \"legendgroup\": \"rho_C\", \"line\": {\"color\": \"#B6E880\", \"dash\": \"solid\"}, \"mode\": \"lines\", \"name\": \"rho_C\", \"orientation\": \"v\", \"showlegend\": true, \"type\": \"scatter\", \"x\": [0, 1, 2, 3, 4, 5, 6, 7, 8, 9, 10], \"xaxis\": \"x\", \"y\": [0.39812500000000006, 0.5947474396233094, 0.6869926915071534, 0.7391277509529541, 0.7715915219527304, 0.7930081637390769, 0.8076708925149869, 0.817963275486824, 0.8253140479434633, 0.8306286675729723, 0.8345051320146224], \"yaxis\": \"y\"}],                        {\"legend\": {\"title\": {\"text\": \"variable\"}, \"tracegroupgap\": 0}, \"margin\": {\"t\": 60}, \"template\": {\"data\": {\"bar\": [{\"error_x\": {\"color\": \"#2a3f5f\"}, \"error_y\": {\"color\": \"#2a3f5f\"}, \"marker\": {\"line\": {\"color\": \"#E5ECF6\", \"width\": 0.5}}, \"type\": \"bar\"}], \"barpolar\": [{\"marker\": {\"line\": {\"color\": \"#E5ECF6\", \"width\": 0.5}}, \"type\": \"barpolar\"}], \"carpet\": [{\"aaxis\": {\"endlinecolor\": \"#2a3f5f\", \"gridcolor\": \"white\", \"linecolor\": \"white\", \"minorgridcolor\": \"white\", \"startlinecolor\": \"#2a3f5f\"}, \"baxis\": {\"endlinecolor\": \"#2a3f5f\", \"gridcolor\": \"white\", \"linecolor\": \"white\", \"minorgridcolor\": \"white\", \"startlinecolor\": \"#2a3f5f\"}, \"type\": \"carpet\"}], \"choropleth\": [{\"colorbar\": {\"outlinewidth\": 0, \"ticks\": \"\"}, \"type\": \"choropleth\"}], \"contour\": [{\"colorbar\": {\"outlinewidth\": 0, \"ticks\": \"\"}, \"colorscale\": [[0.0, \"#0d0887\"], [0.1111111111111111, \"#46039f\"], [0.2222222222222222, \"#7201a8\"], [0.3333333333333333, \"#9c179e\"], [0.4444444444444444, \"#bd3786\"], [0.5555555555555556, \"#d8576b\"], [0.6666666666666666, \"#ed7953\"], [0.7777777777777778, \"#fb9f3a\"], [0.8888888888888888, \"#fdca26\"], [1.0, \"#f0f921\"]], \"type\": \"contour\"}], \"contourcarpet\": [{\"colorbar\": {\"outlinewidth\": 0, \"ticks\": \"\"}, \"type\": \"contourcarpet\"}], \"heatmap\": [{\"colorbar\": {\"outlinewidth\": 0, \"ticks\": \"\"}, \"colorscale\": [[0.0, \"#0d0887\"], [0.1111111111111111, \"#46039f\"], [0.2222222222222222, \"#7201a8\"], [0.3333333333333333, \"#9c179e\"], [0.4444444444444444, \"#bd3786\"], [0.5555555555555556, \"#d8576b\"], [0.6666666666666666, \"#ed7953\"], [0.7777777777777778, \"#fb9f3a\"], [0.8888888888888888, \"#fdca26\"], [1.0, \"#f0f921\"]], \"type\": \"heatmap\"}], \"heatmapgl\": [{\"colorbar\": {\"outlinewidth\": 0, \"ticks\": \"\"}, \"colorscale\": [[0.0, \"#0d0887\"], [0.1111111111111111, \"#46039f\"], [0.2222222222222222, \"#7201a8\"], [0.3333333333333333, \"#9c179e\"], [0.4444444444444444, \"#bd3786\"], [0.5555555555555556, \"#d8576b\"], [0.6666666666666666, \"#ed7953\"], [0.7777777777777778, \"#fb9f3a\"], [0.8888888888888888, \"#fdca26\"], [1.0, \"#f0f921\"]], \"type\": \"heatmapgl\"}], \"histogram\": [{\"marker\": {\"colorbar\": {\"outlinewidth\": 0, \"ticks\": \"\"}}, \"type\": \"histogram\"}], \"histogram2d\": [{\"colorbar\": {\"outlinewidth\": 0, \"ticks\": \"\"}, \"colorscale\": [[0.0, \"#0d0887\"], [0.1111111111111111, \"#46039f\"], [0.2222222222222222, \"#7201a8\"], [0.3333333333333333, \"#9c179e\"], [0.4444444444444444, \"#bd3786\"], [0.5555555555555556, \"#d8576b\"], [0.6666666666666666, \"#ed7953\"], [0.7777777777777778, \"#fb9f3a\"], [0.8888888888888888, \"#fdca26\"], [1.0, \"#f0f921\"]], \"type\": \"histogram2d\"}], \"histogram2dcontour\": [{\"colorbar\": {\"outlinewidth\": 0, \"ticks\": \"\"}, \"colorscale\": [[0.0, \"#0d0887\"], [0.1111111111111111, \"#46039f\"], [0.2222222222222222, \"#7201a8\"], [0.3333333333333333, \"#9c179e\"], [0.4444444444444444, \"#bd3786\"], [0.5555555555555556, \"#d8576b\"], [0.6666666666666666, \"#ed7953\"], [0.7777777777777778, \"#fb9f3a\"], [0.8888888888888888, \"#fdca26\"], [1.0, \"#f0f921\"]], \"type\": \"histogram2dcontour\"}], \"mesh3d\": [{\"colorbar\": {\"outlinewidth\": 0, \"ticks\": \"\"}, \"type\": \"mesh3d\"}], \"parcoords\": [{\"line\": {\"colorbar\": {\"outlinewidth\": 0, \"ticks\": \"\"}}, \"type\": \"parcoords\"}], \"pie\": [{\"automargin\": true, \"type\": \"pie\"}], \"scatter\": [{\"marker\": {\"colorbar\": {\"outlinewidth\": 0, \"ticks\": \"\"}}, \"type\": \"scatter\"}], \"scatter3d\": [{\"line\": {\"colorbar\": {\"outlinewidth\": 0, \"ticks\": \"\"}}, \"marker\": {\"colorbar\": {\"outlinewidth\": 0, \"ticks\": \"\"}}, \"type\": \"scatter3d\"}], \"scattercarpet\": [{\"marker\": {\"colorbar\": {\"outlinewidth\": 0, \"ticks\": \"\"}}, \"type\": \"scattercarpet\"}], \"scattergeo\": [{\"marker\": {\"colorbar\": {\"outlinewidth\": 0, \"ticks\": \"\"}}, \"type\": \"scattergeo\"}], \"scattergl\": [{\"marker\": {\"colorbar\": {\"outlinewidth\": 0, \"ticks\": \"\"}}, \"type\": \"scattergl\"}], \"scattermapbox\": [{\"marker\": {\"colorbar\": {\"outlinewidth\": 0, \"ticks\": \"\"}}, \"type\": \"scattermapbox\"}], \"scatterpolar\": [{\"marker\": {\"colorbar\": {\"outlinewidth\": 0, \"ticks\": \"\"}}, \"type\": \"scatterpolar\"}], \"scatterpolargl\": [{\"marker\": {\"colorbar\": {\"outlinewidth\": 0, \"ticks\": \"\"}}, \"type\": \"scatterpolargl\"}], \"scatterternary\": [{\"marker\": {\"colorbar\": {\"outlinewidth\": 0, \"ticks\": \"\"}}, \"type\": \"scatterternary\"}], \"surface\": [{\"colorbar\": {\"outlinewidth\": 0, \"ticks\": \"\"}, \"colorscale\": [[0.0, \"#0d0887\"], [0.1111111111111111, \"#46039f\"], [0.2222222222222222, \"#7201a8\"], [0.3333333333333333, \"#9c179e\"], [0.4444444444444444, \"#bd3786\"], [0.5555555555555556, \"#d8576b\"], [0.6666666666666666, \"#ed7953\"], [0.7777777777777778, \"#fb9f3a\"], [0.8888888888888888, \"#fdca26\"], [1.0, \"#f0f921\"]], \"type\": \"surface\"}], \"table\": [{\"cells\": {\"fill\": {\"color\": \"#EBF0F8\"}, \"line\": {\"color\": \"white\"}}, \"header\": {\"fill\": {\"color\": \"#C8D4E3\"}, \"line\": {\"color\": \"white\"}}, \"type\": \"table\"}]}, \"layout\": {\"annotationdefaults\": {\"arrowcolor\": \"#2a3f5f\", \"arrowhead\": 0, \"arrowwidth\": 1}, \"autotypenumbers\": \"strict\", \"coloraxis\": {\"colorbar\": {\"outlinewidth\": 0, \"ticks\": \"\"}}, \"colorscale\": {\"diverging\": [[0, \"#8e0152\"], [0.1, \"#c51b7d\"], [0.2, \"#de77ae\"], [0.3, \"#f1b6da\"], [0.4, \"#fde0ef\"], [0.5, \"#f7f7f7\"], [0.6, \"#e6f5d0\"], [0.7, \"#b8e186\"], [0.8, \"#7fbc41\"], [0.9, \"#4d9221\"], [1, \"#276419\"]], \"sequential\": [[0.0, \"#0d0887\"], [0.1111111111111111, \"#46039f\"], [0.2222222222222222, \"#7201a8\"], [0.3333333333333333, \"#9c179e\"], [0.4444444444444444, \"#bd3786\"], [0.5555555555555556, \"#d8576b\"], [0.6666666666666666, \"#ed7953\"], [0.7777777777777778, \"#fb9f3a\"], [0.8888888888888888, \"#fdca26\"], [1.0, \"#f0f921\"]], \"sequentialminus\": [[0.0, \"#0d0887\"], [0.1111111111111111, \"#46039f\"], [0.2222222222222222, \"#7201a8\"], [0.3333333333333333, \"#9c179e\"], [0.4444444444444444, \"#bd3786\"], [0.5555555555555556, \"#d8576b\"], [0.6666666666666666, \"#ed7953\"], [0.7777777777777778, \"#fb9f3a\"], [0.8888888888888888, \"#fdca26\"], [1.0, \"#f0f921\"]]}, \"colorway\": [\"#636efa\", \"#EF553B\", \"#00cc96\", \"#ab63fa\", \"#FFA15A\", \"#19d3f3\", \"#FF6692\", \"#B6E880\", \"#FF97FF\", \"#FECB52\"], \"font\": {\"color\": \"#2a3f5f\"}, \"geo\": {\"bgcolor\": \"white\", \"lakecolor\": \"white\", \"landcolor\": \"#E5ECF6\", \"showlakes\": true, \"showland\": true, \"subunitcolor\": \"white\"}, \"hoverlabel\": {\"align\": \"left\"}, \"hovermode\": \"closest\", \"mapbox\": {\"style\": \"light\"}, \"paper_bgcolor\": \"white\", \"plot_bgcolor\": \"#E5ECF6\", \"polar\": {\"angularaxis\": {\"gridcolor\": \"white\", \"linecolor\": \"white\", \"ticks\": \"\"}, \"bgcolor\": \"#E5ECF6\", \"radialaxis\": {\"gridcolor\": \"white\", \"linecolor\": \"white\", \"ticks\": \"\"}}, \"scene\": {\"xaxis\": {\"backgroundcolor\": \"#E5ECF6\", \"gridcolor\": \"white\", \"gridwidth\": 2, \"linecolor\": \"white\", \"showbackground\": true, \"ticks\": \"\", \"zerolinecolor\": \"white\"}, \"yaxis\": {\"backgroundcolor\": \"#E5ECF6\", \"gridcolor\": \"white\", \"gridwidth\": 2, \"linecolor\": \"white\", \"showbackground\": true, \"ticks\": \"\", \"zerolinecolor\": \"white\"}, \"zaxis\": {\"backgroundcolor\": \"#E5ECF6\", \"gridcolor\": \"white\", \"gridwidth\": 2, \"linecolor\": \"white\", \"showbackground\": true, \"ticks\": \"\", \"zerolinecolor\": \"white\"}}, \"shapedefaults\": {\"line\": {\"color\": \"#2a3f5f\"}}, \"ternary\": {\"aaxis\": {\"gridcolor\": \"white\", \"linecolor\": \"white\", \"ticks\": \"\"}, \"baxis\": {\"gridcolor\": \"white\", \"linecolor\": \"white\", \"ticks\": \"\"}, \"bgcolor\": \"#E5ECF6\", \"caxis\": {\"gridcolor\": \"white\", \"linecolor\": \"white\", \"ticks\": \"\"}}, \"title\": {\"x\": 0.05}, \"xaxis\": {\"automargin\": true, \"gridcolor\": \"white\", \"linecolor\": \"white\", \"ticks\": \"\", \"title\": {\"standoff\": 15}, \"zerolinecolor\": \"white\", \"zerolinewidth\": 2}, \"yaxis\": {\"automargin\": true, \"gridcolor\": \"white\", \"linecolor\": \"white\", \"ticks\": \"\", \"title\": {\"standoff\": 15}, \"zerolinecolor\": \"white\", \"zerolinewidth\": 2}}}, \"xaxis\": {\"anchor\": \"y\", \"domain\": [0.0, 1.0], \"title\": {\"text\": \"index\"}}, \"yaxis\": {\"anchor\": \"x\", \"domain\": [0.0, 1.0], \"title\": {\"text\": \"value\"}}},                        {\"responsive\": true}                    ).then(function(){\n",
              "                            \n",
              "var gd = document.getElementById('65d5f7cc-93c7-47a1-8589-a67535259a02');\n",
              "var x = new MutationObserver(function (mutations, observer) {{\n",
              "        var display = window.getComputedStyle(gd).display;\n",
              "        if (!display || display === 'none') {{\n",
              "            console.log([gd, 'removed!']);\n",
              "            Plotly.purge(gd);\n",
              "            observer.disconnect();\n",
              "        }}\n",
              "}});\n",
              "\n",
              "// Listen for the removal of the full notebook cells\n",
              "var notebookContainer = gd.closest('#notebook-container');\n",
              "if (notebookContainer) {{\n",
              "    x.observe(notebookContainer, {childList: true});\n",
              "}}\n",
              "\n",
              "// Listen for the clearing of the current output cell\n",
              "var outputEl = gd.closest('.output');\n",
              "if (outputEl) {{\n",
              "    x.observe(outputEl, {childList: true});\n",
              "}}\n",
              "\n",
              "                        })                };                });            </script>        </div>"
            ]
          },
          "metadata": {
            "tags": []
          }
        }
      ]
    },
    {
      "cell_type": "code",
      "metadata": {
        "id": "OIqbuoRM2PMD",
        "outputId": "12629e42-0272-40d7-bb09-ac3bb8f44cc1"
      },
      "source": [
        "def deriv(y, t, I, beta, gamma, MI):\n",
        "    P, delta_P, delta_C = y\n",
        "    nu_i = gamma * (delta_P / P)\n",
        "    dCdt = (C/(C+P))*MI*(1+nu_i)\n",
        "    dPdt = (P/(C+P))*MI*(1+nu_i)\n",
        "    dDCdt = alpha * dCdt\n",
        "    MI = (dPdt * P)/(C + P)\n",
        "    rho_C = delta_C / C\n",
        "    rho_P = delta_P / P\n",
        "    dPdt += MI\n",
        "    return dPdt, delta_P, delta_C\n",
        "\n",
        "t = np.linspace(1, 10, 10)\n",
        "\n",
        "y0 = 10, 1, 1\n",
        "I, C = 10, 10\n",
        "beta = 1.7\n",
        "gamma = 1.5\n",
        "MI = 2\n",
        "ret = odeint(deriv, y0, t, args = (I, beta, gamma, MI))\n",
        "P, delta_P, delta_C = ret.T\n",
        "\n",
        "something_more_results = pd.DataFrame({'t': t, 'I': I, 'C': C, 'P':P, 'delta_C':delta_C, 'delta_P':delta_P})\n",
        "print(something_more_results)"
      ],
      "execution_count": null,
      "outputs": [
        {
          "output_type": "stream",
          "text": [
            "      t   I   C           P      delta_C      delta_P\n",
            "0   1.0  10  10   10.000000     1.000000     1.000000\n",
            "1   2.0  10  10   11.962393     2.718282     2.718282\n",
            "2   3.0  10  10   14.689467     7.389057     7.389057\n",
            "3   4.0  10  10   19.017794    20.085538    20.085538\n",
            "4   5.0  10  10   26.680292    54.598155    54.598155\n",
            "5   6.0  10  10   40.756211   148.413176   148.413176\n",
            "6   7.0  10  10   66.022135   403.428848   403.428848\n",
            "7   8.0  10  10  109.685622  1096.633327  1096.633327\n",
            "8   9.0  10  10  183.192158  2980.958499  2980.958499\n",
            "9  10.0  10  10  305.365317  8103.085473  8103.085473\n"
          ],
          "name": "stdout"
        }
      ]
    },
    {
      "cell_type": "code",
      "metadata": {
        "id": "e7BOWa3I2PMD"
      },
      "source": [
        ""
      ],
      "execution_count": null,
      "outputs": []
    },
    {
      "cell_type": "markdown",
      "metadata": {
        "id": "F9T0-uu52PMD"
      },
      "source": [
        "## Somthing New"
      ]
    },
    {
      "cell_type": "code",
      "metadata": {
        "id": "fuaaBd8R2PMD",
        "outputId": "d05f83ad-7383-486a-8b1c-9de7e40687d3"
      },
      "source": [
        "C = 10\n",
        "P = 10\n",
        "results = []\n",
        "current_day = 0\n",
        "time = 10\n",
        "dPdt = 10\n",
        "E = 0\n",
        "I = 0\n",
        "# production diversity\n",
        "delta_P = 1\n",
        "# consumption diversity\n",
        "delta_C = 1\n",
        "nu_n = .5\n",
        "beta = .7\n",
        "alpha = .3\n",
        "gamma = 1.5\n",
        "MI = 2\n",
        "NI = 1\n",
        "while current_day <= time:\n",
        "    #MI(t-1) =  dPdt(t-1) * P_t(t-1)/ Ct-1 + P(t-1)\n",
        "    # Something new comes in and is added to production\n",
        "    # Since there is no MI at this point dPdt is = something new\n",
        "    # X = MI_(t-1)* nu_n\n",
        "    # dPdt = MI(t-1) + X = MI(t-1) + MI_(t-1)* nu_n = MI(t-1)* (1+ nu_n)\n",
        "    dPdt = MI*(1 + nu_n)\n",
        "    dCdt = NI*(1 + nu_n)\n",
        "    P += dPdt\n",
        "    # Explicitly increment these boxes\n",
        "    # Save MI and NI \n",
        "    \n",
        "    NI = (dPdt * C)/(C + P)\n",
        "    MI = (dPdt * P)/(C + P)\n",
        "    E += dPdt\n",
        "    I = E\n",
        "    C += NI\n",
        "    P += MI\n",
        "    # Production Diversity\n",
        "    delta_P += beta * dPdt\n",
        "    # Consumption Diversity\n",
        "    delta_C += alpha * dCdt\n",
        "    \n",
        "    rho_P = delta_P / P\n",
        "    rho_C = delta_C / C\n",
        "    nu_n = gamma * delta_P / P\n",
        "    day_results = {\n",
        "        'dCdt': dCdt,\n",
        "        'C': C,\n",
        "        'dPdt': dPdt,\n",
        "        'P': P,\n",
        "        'delta_P': delta_P,\n",
        "        'delta_C': delta_C,\n",
        "        'rho_P': rho_P,\n",
        "        'rho_C': rho_C\n",
        "    }\n",
        "    old_mi  = MI \n",
        "    results.append(day_results)\n",
        "    current_day += 1\n",
        "df = pd.DataFrame(results)\n",
        "print(df)"
      ],
      "execution_count": null,
      "outputs": [
        {
          "output_type": "stream",
          "text": [
            "        dCdt          C      dPdt          P    delta_P   delta_C     rho_P  \\\n",
            "0   1.500000  11.304348  3.000000  14.695652   3.100000  1.450000  0.210947   \n",
            "1   1.717070  12.198131  2.232191  18.266250   4.662533  1.965121  0.255254   \n",
            "2   1.235996  12.896780  1.850858  21.269317   5.958134  2.335920  0.280128   \n",
            "3   0.992216  13.486230  1.636358  23.952584   7.103585  2.633584  0.296569   \n",
            "4   0.851668  14.009950  1.512629  26.454122   8.162425  2.889085  0.308550   \n",
            "5   0.766111  14.493522  1.446600  28.863751   9.175046  3.118918  0.317874   \n",
            "6   0.714144  14.953841  1.422212  31.247857  10.170594  3.333161  0.325481   \n",
            "7   0.685058  15.403246  1.431510  33.661473  11.172652  3.538679  0.331912   \n",
            "8   0.673149  15.851624  1.471065  36.155225  12.202397  3.740623  0.337500   \n",
            "9   0.675371  16.307636  1.540422  38.780056  13.280692  3.943235  0.342462   \n",
            "10  0.690262  16.779499  1.641463  41.591120  14.429717  4.150313  0.346942   \n",
            "\n",
            "       rho_C  \n",
            "0   0.128269  \n",
            "1   0.161100  \n",
            "2   0.181124  \n",
            "3   0.195280  \n",
            "4   0.206217  \n",
            "5   0.215194  \n",
            "6   0.222897  \n",
            "7   0.229736  \n",
            "8   0.235977  \n",
            "9   0.241803  \n",
            "10  0.247344  \n"
          ],
          "name": "stdout"
        }
      ]
    },
    {
      "cell_type": "code",
      "metadata": {
        "id": "PJ8Qt13R2PMD",
        "outputId": "c6ce4a0a-68fc-459e-a0c4-321a44665602"
      },
      "source": [
        "def deriv(y, t, I, beta, gamma, MI):\n",
        "    P, delta_P, delta_C = y\n",
        "    nu_i = gamma * (delta_P / P)\n",
        "    dCdt = (C/(C+P))*MI*(1+nu_i)\n",
        "    dPdt = (P/(C+P))*MI*(1+nu_i)\n",
        "    dDCdt = alpha * dCdt\n",
        "    MI = (dPdt * P)/(C + P)\n",
        "    # Production Diversity\n",
        "    delta_P += beta * dPdt\n",
        "    # Consumption Diversity\n",
        "    delta_C += alpha * dCdt\n",
        "    rho_C = delta_C / C\n",
        "    rho_P = delta_P / P\n",
        "    dPdt += MI\n",
        "    return dPdt, delta_P, delta_C\n",
        "\n",
        "t = np.linspace(1, 10, 10)\n",
        "\n",
        "y0 = 10, 1, 1\n",
        "I, C = 10, 10\n",
        "beta = 1.7\n",
        "gamma = 1.5\n",
        "MI = 2\n",
        "ret = odeint(deriv, y0, t, args = (I, beta, gamma, MI))\n",
        "P, delta_P, delta_C = ret.T\n",
        "\n",
        "something_new_results = pd.DataFrame({'t': t, 'I': I, 'C': C, 'P':P, 'delta_C':delta_C, 'delta_P':delta_P})\n",
        "print(something_new_results)"
      ],
      "execution_count": null,
      "outputs": [
        {
          "output_type": "stream",
          "text": [
            "      t   I   C           P       delta_C       delta_P\n",
            "0   1.0  10  10   10.000000      1.000000      1.000000\n",
            "1   2.0  10  10   12.323911      3.403200      6.958007\n",
            "2   3.0  10  10   17.105868     10.276954     27.155728\n",
            "3   4.0  10  10   27.712864     29.384360     91.116645\n",
            "4   5.0  10  10   49.286219     81.534051    281.186332\n",
            "5   6.0  10  10   88.519545    223.257400    823.020294\n",
            "6   7.0  10  10  155.510626    608.397130   2334.886075\n",
            "7   8.0  10  10  267.137854   1655.228843   6507.107781\n",
            "8   9.0  10  10  451.692869   4500.755282  17950.549887\n",
            "9  10.0  10  10  756.148133  12235.662994  49225.048905\n"
          ],
          "name": "stdout"
        }
      ]
    },
    {
      "cell_type": "code",
      "metadata": {
        "id": "VG477dLG2PME"
      },
      "source": [
        ""
      ],
      "execution_count": null,
      "outputs": []
    }
  ]
}