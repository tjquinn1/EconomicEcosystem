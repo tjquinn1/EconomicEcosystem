{
  "nbformat": 4,
  "nbformat_minor": 0,
  "metadata": {
    "kernelspec": {
      "display_name": "Python 3",
      "language": "python",
      "name": "python3"
    },
    "language_info": {
      "codemirror_mode": {
        "name": "ipython",
        "version": 3
      },
      "file_extension": ".py",
      "mimetype": "text/x-python",
      "name": "python",
      "nbconvert_exporter": "python",
      "pygments_lexer": "ipython3",
      "version": "3.8.5"
    },
    "colab": {
      "name": "Copy of JMA_Model_10March2021.ipynb",
      "provenance": [],
      "collapsed_sections": [],
      "include_colab_link": true
    }
  },
  "cells": [
    {
      "cell_type": "markdown",
      "metadata": {
        "id": "view-in-github",
        "colab_type": "text"
      },
      "source": [
        "<a href=\"https://colab.research.google.com/github/tjquinn1/EconomicEcosystem/blob/main/Copy_of_JMA_Model_10March2021.ipynb\" target=\"_parent\"><img src=\"https://colab.research.google.com/assets/colab-badge.svg\" alt=\"Open In Colab\"/></a>"
      ]
    },
    {
      "cell_type": "markdown",
      "metadata": {
        "id": "W_TVyeiQX4M2"
      },
      "source": [
        "#### Sustainable Economic Growth Model\n",
        "J M Applegate, Taylor Quinn   \n",
        "8 March, 2021"
      ]
    },
    {
      "cell_type": "code",
      "metadata": {
        "colab": {
          "base_uri": "https://localhost:8080/"
        },
        "id": "wKBNivtKX4M8",
        "outputId": "a2e09a9d-36c4-47bf-98ff-7244e3673b9a"
      },
      "source": [
        "%pip install plotly\n",
        "%pip install \"ipywidgets>=7.5\"\n",
        "%pip install rpy2\n",
        "%load_ext rpy2.ipython\n",
        "import numpy as np\n",
        "import pandas as pd\n",
        "from scipy.integrate import odeint\n",
        "from random import seed, gauss, randint\n",
        "import csv\n",
        "import random\n",
        "import math\n",
        "seed(1)"
      ],
      "execution_count": 1,
      "outputs": [
        {
          "output_type": "stream",
          "text": [
            "Requirement already satisfied: plotly in /usr/local/lib/python3.7/dist-packages (4.4.1)\n",
            "Requirement already satisfied: retrying>=1.3.3 in /usr/local/lib/python3.7/dist-packages (from plotly) (1.3.3)\n",
            "Requirement already satisfied: six in /usr/local/lib/python3.7/dist-packages (from plotly) (1.15.0)\n",
            "Requirement already satisfied: ipywidgets>=7.5 in /usr/local/lib/python3.7/dist-packages (7.6.3)\n",
            "Requirement already satisfied: ipykernel>=4.5.1 in /usr/local/lib/python3.7/dist-packages (from ipywidgets>=7.5) (4.10.1)\n",
            "Requirement already satisfied: ipython>=4.0.0; python_version >= \"3.3\" in /usr/local/lib/python3.7/dist-packages (from ipywidgets>=7.5) (5.5.0)\n",
            "Requirement already satisfied: widgetsnbextension~=3.5.0 in /usr/local/lib/python3.7/dist-packages (from ipywidgets>=7.5) (3.5.1)\n",
            "Requirement already satisfied: traitlets>=4.3.1 in /usr/local/lib/python3.7/dist-packages (from ipywidgets>=7.5) (5.0.5)\n",
            "Requirement already satisfied: nbformat>=4.2.0 in /usr/local/lib/python3.7/dist-packages (from ipywidgets>=7.5) (5.1.3)\n",
            "Requirement already satisfied: jupyterlab-widgets>=1.0.0; python_version >= \"3.6\" in /usr/local/lib/python3.7/dist-packages (from ipywidgets>=7.5) (1.0.0)\n",
            "Requirement already satisfied: tornado>=4.0 in /usr/local/lib/python3.7/dist-packages (from ipykernel>=4.5.1->ipywidgets>=7.5) (5.1.1)\n",
            "Requirement already satisfied: jupyter-client in /usr/local/lib/python3.7/dist-packages (from ipykernel>=4.5.1->ipywidgets>=7.5) (5.3.5)\n",
            "Requirement already satisfied: pygments in /usr/local/lib/python3.7/dist-packages (from ipython>=4.0.0; python_version >= \"3.3\"->ipywidgets>=7.5) (2.6.1)\n",
            "Requirement already satisfied: pexpect; sys_platform != \"win32\" in /usr/local/lib/python3.7/dist-packages (from ipython>=4.0.0; python_version >= \"3.3\"->ipywidgets>=7.5) (4.8.0)\n",
            "Requirement already satisfied: simplegeneric>0.8 in /usr/local/lib/python3.7/dist-packages (from ipython>=4.0.0; python_version >= \"3.3\"->ipywidgets>=7.5) (0.8.1)\n",
            "Requirement already satisfied: setuptools>=18.5 in /usr/local/lib/python3.7/dist-packages (from ipython>=4.0.0; python_version >= \"3.3\"->ipywidgets>=7.5) (56.1.0)\n",
            "Requirement already satisfied: prompt-toolkit<2.0.0,>=1.0.4 in /usr/local/lib/python3.7/dist-packages (from ipython>=4.0.0; python_version >= \"3.3\"->ipywidgets>=7.5) (1.0.18)\n",
            "Requirement already satisfied: decorator in /usr/local/lib/python3.7/dist-packages (from ipython>=4.0.0; python_version >= \"3.3\"->ipywidgets>=7.5) (4.4.2)\n",
            "Requirement already satisfied: pickleshare in /usr/local/lib/python3.7/dist-packages (from ipython>=4.0.0; python_version >= \"3.3\"->ipywidgets>=7.5) (0.7.5)\n",
            "Requirement already satisfied: notebook>=4.4.1 in /usr/local/lib/python3.7/dist-packages (from widgetsnbextension~=3.5.0->ipywidgets>=7.5) (5.3.1)\n",
            "Requirement already satisfied: ipython-genutils in /usr/local/lib/python3.7/dist-packages (from traitlets>=4.3.1->ipywidgets>=7.5) (0.2.0)\n",
            "Requirement already satisfied: jupyter-core in /usr/local/lib/python3.7/dist-packages (from nbformat>=4.2.0->ipywidgets>=7.5) (4.7.1)\n",
            "Requirement already satisfied: jsonschema!=2.5.0,>=2.4 in /usr/local/lib/python3.7/dist-packages (from nbformat>=4.2.0->ipywidgets>=7.5) (2.6.0)\n",
            "Requirement already satisfied: python-dateutil>=2.1 in /usr/local/lib/python3.7/dist-packages (from jupyter-client->ipykernel>=4.5.1->ipywidgets>=7.5) (2.8.1)\n",
            "Requirement already satisfied: pyzmq>=13 in /usr/local/lib/python3.7/dist-packages (from jupyter-client->ipykernel>=4.5.1->ipywidgets>=7.5) (22.0.3)\n",
            "Requirement already satisfied: ptyprocess>=0.5 in /usr/local/lib/python3.7/dist-packages (from pexpect; sys_platform != \"win32\"->ipython>=4.0.0; python_version >= \"3.3\"->ipywidgets>=7.5) (0.7.0)\n",
            "Requirement already satisfied: six>=1.9.0 in /usr/local/lib/python3.7/dist-packages (from prompt-toolkit<2.0.0,>=1.0.4->ipython>=4.0.0; python_version >= \"3.3\"->ipywidgets>=7.5) (1.15.0)\n",
            "Requirement already satisfied: wcwidth in /usr/local/lib/python3.7/dist-packages (from prompt-toolkit<2.0.0,>=1.0.4->ipython>=4.0.0; python_version >= \"3.3\"->ipywidgets>=7.5) (0.2.5)\n",
            "Requirement already satisfied: jinja2 in /usr/local/lib/python3.7/dist-packages (from notebook>=4.4.1->widgetsnbextension~=3.5.0->ipywidgets>=7.5) (2.11.3)\n",
            "Requirement already satisfied: terminado>=0.8.1 in /usr/local/lib/python3.7/dist-packages (from notebook>=4.4.1->widgetsnbextension~=3.5.0->ipywidgets>=7.5) (0.9.4)\n",
            "Requirement already satisfied: Send2Trash in /usr/local/lib/python3.7/dist-packages (from notebook>=4.4.1->widgetsnbextension~=3.5.0->ipywidgets>=7.5) (1.5.0)\n",
            "Requirement already satisfied: nbconvert in /usr/local/lib/python3.7/dist-packages (from notebook>=4.4.1->widgetsnbextension~=3.5.0->ipywidgets>=7.5) (5.6.1)\n",
            "Requirement already satisfied: MarkupSafe>=0.23 in /usr/local/lib/python3.7/dist-packages (from jinja2->notebook>=4.4.1->widgetsnbextension~=3.5.0->ipywidgets>=7.5) (1.1.1)\n",
            "Requirement already satisfied: bleach in /usr/local/lib/python3.7/dist-packages (from nbconvert->notebook>=4.4.1->widgetsnbextension~=3.5.0->ipywidgets>=7.5) (3.3.0)\n",
            "Requirement already satisfied: defusedxml in /usr/local/lib/python3.7/dist-packages (from nbconvert->notebook>=4.4.1->widgetsnbextension~=3.5.0->ipywidgets>=7.5) (0.7.1)\n",
            "Requirement already satisfied: pandocfilters>=1.4.1 in /usr/local/lib/python3.7/dist-packages (from nbconvert->notebook>=4.4.1->widgetsnbextension~=3.5.0->ipywidgets>=7.5) (1.4.3)\n",
            "Requirement already satisfied: testpath in /usr/local/lib/python3.7/dist-packages (from nbconvert->notebook>=4.4.1->widgetsnbextension~=3.5.0->ipywidgets>=7.5) (0.4.4)\n",
            "Requirement already satisfied: entrypoints>=0.2.2 in /usr/local/lib/python3.7/dist-packages (from nbconvert->notebook>=4.4.1->widgetsnbextension~=3.5.0->ipywidgets>=7.5) (0.3)\n",
            "Requirement already satisfied: mistune<2,>=0.8.1 in /usr/local/lib/python3.7/dist-packages (from nbconvert->notebook>=4.4.1->widgetsnbextension~=3.5.0->ipywidgets>=7.5) (0.8.4)\n",
            "Requirement already satisfied: webencodings in /usr/local/lib/python3.7/dist-packages (from bleach->nbconvert->notebook>=4.4.1->widgetsnbextension~=3.5.0->ipywidgets>=7.5) (0.5.1)\n",
            "Requirement already satisfied: packaging in /usr/local/lib/python3.7/dist-packages (from bleach->nbconvert->notebook>=4.4.1->widgetsnbextension~=3.5.0->ipywidgets>=7.5) (20.9)\n",
            "Requirement already satisfied: pyparsing>=2.0.2 in /usr/local/lib/python3.7/dist-packages (from packaging->bleach->nbconvert->notebook>=4.4.1->widgetsnbextension~=3.5.0->ipywidgets>=7.5) (2.4.7)\n",
            "Requirement already satisfied: rpy2 in /usr/local/lib/python3.7/dist-packages (3.4.3)\n",
            "Requirement already satisfied: pytz in /usr/local/lib/python3.7/dist-packages (from rpy2) (2018.9)\n",
            "Requirement already satisfied: cffi>=1.10.0 in /usr/local/lib/python3.7/dist-packages (from rpy2) (1.14.5)\n",
            "Requirement already satisfied: tzlocal in /usr/local/lib/python3.7/dist-packages (from rpy2) (1.5.1)\n",
            "Requirement already satisfied: jinja2 in /usr/local/lib/python3.7/dist-packages (from rpy2) (2.11.3)\n",
            "Requirement already satisfied: pycparser in /usr/local/lib/python3.7/dist-packages (from cffi>=1.10.0->rpy2) (2.20)\n",
            "Requirement already satisfied: MarkupSafe>=0.23 in /usr/local/lib/python3.7/dist-packages (from jinja2->rpy2) (1.1.1)\n"
          ],
          "name": "stdout"
        }
      ]
    },
    {
      "cell_type": "code",
      "metadata": {
        "colab": {
          "base_uri": "https://localhost:8080/"
        },
        "id": "O0CfROqEX4M9",
        "outputId": "ccde32fc-e6be-4551-f6a1-6e042f8e4bef"
      },
      "source": [
        "%%R \n",
        "library(tidyverse)\n",
        "library(ggthemes)\n",
        "palette_ordered <- c('darkred', 'deepskyblue2', 'paleturquoise3', 'red3', \n",
        "                    'steelblue3', 'lightpink2', 'darkslategrey', 'cadetblue', \n",
        "                    'royalblue3', 'darkorange', 'palegreen3', 'navajowhite3')"
      ],
      "execution_count": null,
      "outputs": [
        {
          "output_type": "stream",
          "text": [
            "R[write to console]: ── Attaching packages ─────────────────────────────────────── tidyverse 1.3.1 ──\n",
            "\n",
            "R[write to console]: ✔ ggplot2 3.3.3     ✔ purrr   0.3.4\n",
            "✔ tibble  3.1.1     ✔ dplyr   1.0.5\n",
            "✔ tidyr   1.1.3     ✔ stringr 1.4.0\n",
            "✔ readr   1.4.0     ✔ forcats 0.5.1\n",
            "\n",
            "R[write to console]: ── Conflicts ────────────────────────────────────────── tidyverse_conflicts() ──\n",
            "✖ dplyr::filter() masks stats::filter()\n",
            "✖ dplyr::lag()    masks stats::lag()\n",
            "\n",
            "R[write to console]: Error in library(ggthemes) : there is no package called ‘ggthemes’\n",
            "\n",
            "R[write to console]: In addition: \n",
            "R[write to console]: Warning message:\n",
            "\n",
            "R[write to console]: In system(\"timedatectl\", intern = TRUE) :\n",
            "R[write to console]: \n",
            " \n",
            "R[write to console]:  running command 'timedatectl' had status 1\n",
            "\n"
          ],
          "name": "stderr"
        },
        {
          "output_type": "stream",
          "text": [
            "\n",
            "Error in library(ggthemes) : there is no package called ‘ggthemes’\n"
          ],
          "name": "stdout"
        }
      ]
    },
    {
      "cell_type": "markdown",
      "metadata": {
        "id": "PU3C0pNQX4M-"
      },
      "source": [
        "### Sustainable Economic Growth Model (SEG)\n",
        "Starting with a small settlement which harvests some natural resource which is exported, thus earning imports.  \n",
        "Two fundamental processes are import replacement and export expansion.  \n",
        "Exports, $E$, equals imports, $I$. Total size of the economy is measured as size of consumption, $C$, and production, $P$, therefore $P + C$.\n",
        "#### Import Replacement\n",
        "Imports from $I$ flow to $P$ or $C$ proportionately.  \n",
        "Imports are replaced at a rate $\\rho$, where $\\rho = (\\rho_C + \\rho_P) < 1$.  \n",
        "$\\rho$ is related to an economy's *dynamism*, involving untapped purchasing power, knowledge, diversity and inventiveness.  \n",
        "If $\\rho = 1$ then all imports are replaced each timestep, which is unrealistic.  \n",
        "$\\rho$ could also be modeled stochastically.    \n",
        "Each timestep $\\rho I$ imports are replaced and proportionately divided between $C$ and $P$, thus \n",
        "\\begin{align}\n",
        "\\frac{dC}{dt} &= \\rho I\\frac{C}{C + P}\\\\\n",
        "\\frac{dP}{dt} &= \\rho I\\frac{P}{C + P} + 1.\\\\\n",
        "\\end{align}\n",
        "\n",
        "*What expansion is being measured? Capacity? Past timestep quantitative flows?*  \n",
        "\n",
        "$\\rho I = X$, and increases in $C$ and $P$ are measured in $X$.  \n",
        "$X$ is a function of numerous quantitative and qualitative aspects of an economy, just as $\\rho.$      \n",
        "If an economy was importing jam and decides to produce jam locally, then the economy still needs to import the components of jam (berries, sugar, pectin, jars).  \n",
        "Jam is therefore berries, sugar, pectin and jars plus some industrious addition, $X$.  \n",
        "This $X$, the value-add of jam production, is no longer imported, and $X$ is the quantity that translates to new imports.  \n",
        "Note that $I$ and $E$ remain constant, but that $C$ and $P$, the settlements economic activity, increases.  \n",
        "Both consumption and production imports can be novel, thus diversity in both consumption and production increase each timestep.\n",
        "\n",
        "*How does economic diversity, $\\delta = \\delta_C + \\delta_P$, increase? How does $\\rho$ increase?*  \n",
        "\n",
        "$\\delta$ increases as a function of the increases in $C, P$ and a parameter $\\gamma$ where $0 < \\gamma < 1$ and $0 < \\delta < \\infty:$ as\n",
        "\\begin{equation}\n",
        "\\frac{d\\delta}{dt} = \\gamma  \\rho  I.\n",
        "\\end{equation}\n",
        "\n",
        "$\\rho$ will increase with $\\delta$ but has an upper limit less than 1, so perhaps model as a scaled logistic function.  \n",
        "For now, $\\rho$ is constant."
      ]
    },
    {
      "cell_type": "code",
      "metadata": {
        "id": "dKGnSZQSX4M_"
      },
      "source": [
        "# Initial conditions\n",
        "C = 10\n",
        "P = 20\n",
        "I = 8\n",
        "E = I\n",
        "\n",
        "delta = 5\n",
        "rho = .4\n",
        "nu = .2\n",
        "gamma = .1\n",
        "steps = 20\n",
        "alpha = 1.1\n",
        "beta = 1.5\n",
        "\n",
        "results = []\n",
        "t = 1\n",
        "\n",
        "while t <= steps:\n",
        "    dCdt = rho * I * (C / (C + P))\n",
        "    dPdt = rho * I * (P / (C + P))\n",
        "    C += dCdt\n",
        "    P += dPdt\n",
        "    delta += gamma * rho * I\n",
        "    \n",
        "    day_results = {\n",
        "        't': t,\n",
        "        #'I': I,\n",
        "        'E': E,\n",
        "        'C': C,\n",
        "        'P': P,\n",
        "        'dCdt': dCdt,\n",
        "        'dPdt': dPdt,\n",
        "        'delta': delta,\n",
        "        'rho': rho,\n",
        "        'nu': nu,\n",
        "    }\n",
        "    results.append(day_results)\n",
        "    t += 1 \n",
        "df = pd.DataFrame(results)"
      ],
      "execution_count": null,
      "outputs": []
    },
    {
      "cell_type": "code",
      "metadata": {
        "id": "pXgtzxUbX4M_",
        "outputId": "a6e7539a-1dc8-4244-acd8-1d158ac98bed"
      },
      "source": [
        "%%R -i df\n",
        "plot.data <- df %>% gather(measure, value, -t) #%>% \n",
        "    #mutate(category = ifelse(measure %in% c('E', 'C', 'P'), 'box', \n",
        "                             #ifelse(measure %in% c('dEdt', 'dCdt', 'dPdt'), 'changes', 'parameters')))\n",
        "ggplot(plot.data, aes(x = t, y = value, color = measure)) + theme_tufte(base_size = 20) + \n",
        "    geom_line(size = 1.5) + \n",
        "    #facet_wrap(~ category) +\n",
        "    scale_color_manual(values = palette_ordered) +\n",
        "    theme(legend.position = 'bottom')"
      ],
      "execution_count": null,
      "outputs": [
        {
          "output_type": "display_data",
          "data": {
            "image/png": "[encoded data removed]"
          },
          "metadata": {
            "tags": []
          }
        }
      ]
    },
    {
      "cell_type": "markdown",
      "metadata": {
        "id": "45bd7fVRX4NB"
      },
      "source": [
        "#### Export Expansion\n",
        "Whenever there is an increase in production imports,\n",
        "\\begin{equation}\n",
        "\\frac{dP}{dt} > 0,\n",
        "\\end{equation}\n",
        "production activity increases in one of two ways; either intensive, more of the same, or extensive, something innovative is produced.  \n",
        "An intensive increase does not increase $\\delta_P$ but an extensive increase does.  \n",
        "The new imports are modified by a factor $\\nu = (\\nu_i + \\nu_e) < 1$ for intensive and extensive processes.  \n",
        "$\\nu,$ like $\\rho,$ is a function of diversity, untapped purchasing power, knowledge and inventiveness.\n",
        "\n",
        "The increase in exports is \n",
        "\\begin{equation}\n",
        "\\frac{dE}{dt} = \\nu\\left(\\frac{dP}{dt}\\right)_{t-1}\n",
        "\\end{equation}\n",
        "which is translates to an increase in imports, which in turn is divided proportionatly between $C$ and $P$, thus\n",
        "\\begin{align}\n",
        "\\frac{dC}{dt} &= \\frac{dE}{dt}\\frac{C}{C + P}\\\\\n",
        "\\frac{dP}{dt} &= \\frac{dE}{dt}\\frac{P}{C + P}.\\\\\n",
        "\\end{align}\n",
        "The economy's diversity, $\\delta$, again increases according to the increase in exports modified by $\\gamma:$\n",
        "\\begin{equation}\n",
        "\\frac{d\\delta}{dt} = \\gamma \\frac{dE}{dt}.\n",
        "\\end{equation}\n",
        "\n",
        "Like $\\rho,$ $\\nu$ will increase with $\\delta$ but has an upper limit less than 1, so perhaps model as a logistic function.  \n",
        "For now, $\\nu$ is constant."
      ]
    },
    {
      "cell_type": "code",
      "metadata": {
        "id": "sUaUjCP_X4NB",
        "colab": {
          "base_uri": "https://localhost:8080/",
          "height": 283
        },
        "outputId": "59f01556-f836-4551-ab34-655ec7741e4f"
      },
      "source": [
        "# Initial conditions\n",
        "C = 10\n",
        "P = 20\n",
        "I = 8\n",
        "E = I\n",
        "\n",
        "delta = 5\n",
        "rho = .4\n",
        "nu = .2\n",
        "gamma = .1\n",
        "steps = 20\n",
        "alpha = 1.1\n",
        "beta = 1.5\n",
        "\n",
        "results = []\n",
        "t = 1\n",
        "\n",
        "dPdt_previous = 1.2\n",
        "\n",
        "while t <= steps:\n",
        "    dEdt = nu * dPdt_previous\n",
        "    E += dEdt\n",
        "    I += dEdt\n",
        "    dCdt += dEdt * (C / (C + P))\n",
        "    dPdt += dEdt * (P / (C + P))\n",
        "    C += dCdt\n",
        "    P += dPdt\n",
        "    dPdt_previous = dPdt\n",
        "    delta += gamma * dEdt\n",
        "    \n",
        "    day_results = {\n",
        "        't': t,\n",
        "        #'I': I,\n",
        "        'E': E,\n",
        "        'C': C,\n",
        "        'P': P,\n",
        "        'dEdt': dEdt,\n",
        "        'dCdt': dCdt,\n",
        "        'dPdt': dPdt,\n",
        "        'delta': delta,\n",
        "        'rho': rho,\n",
        "        'nu': nu,\n",
        "    }\n",
        "    results.append(day_results)\n",
        "    t += 1 \n",
        "df = pd.DataFrame(results)\n",
        "df.plot()"
      ],
      "execution_count": 33,
      "outputs": [
        {
          "output_type": "execute_result",
          "data": {
            "text/plain": [
              "<matplotlib.axes._subplots.AxesSubplot at 0x7f62b1114290>"
            ]
          },
          "metadata": {
            "tags": []
          },
          "execution_count": 33
        },
        {
          "output_type": "display_data",
          "data": {
            "image/png": "[encoded data removed]",
            "text/plain": [
              "<Figure size 432x288 with 1 Axes>"
            ]
          },
          "metadata": {
            "tags": [],
            "needs_background": "light"
          }
        }
      ]
    },
    {
      "cell_type": "code",
      "metadata": {
        "id": "HGEogM4iX4NB",
        "colab": {
          "base_uri": "https://localhost:8080/"
        },
        "outputId": "d86ecca1-fd33-4555-a013-be44f2a114b4"
      },
      "source": [
        "%%R -i df\n",
        "plot.data <- df %>% gather(measure, value, -t) #%>% \n",
        "    #mutate(category = ifelse(measure %in% c('E', 'C', 'P'), 'box', \n",
        "                             #ifelse(measure %in% c('dEdt', 'dCdt', 'dPdt'), 'changes', 'parameters')))\n",
        "ggplot(plot.data, aes(x = t, y = value, color = measure)) + theme_tufte(base_size = 20) + \n",
        "    geom_line(size = 1.5) + \n",
        "    #facet_wrap(~ category) +\n",
        "    scale_color_manual(values = palette_ordered) +\n",
        "    theme(legend.position = 'bottom')"
      ],
      "execution_count": 32,
      "outputs": [
        {
          "output_type": "stream",
          "text": [
            "R[write to console]: Error in df %>% gather(measure, value, -t) : \n",
            "  could not find function \"%>%\"\n",
            "\n"
          ],
          "name": "stderr"
        },
        {
          "output_type": "stream",
          "text": [
            "\n",
            "Error in df %>% gather(measure, value, -t) : \n",
            "  could not find function \"%>%\"\n"
          ],
          "name": "stdout"
        }
      ]
    },
    {
      "cell_type": "markdown",
      "metadata": {
        "id": "lHU0TenaX4NC"
      },
      "source": [
        "#### Carrying Capacity\n",
        "Each economy has a carrying capacity, $K$, which is a function of population, $N$.  \n",
        "$K_C = \\alpha N$ and $K_P = \\beta N$.\n",
        "These are upper limits on the sizes of $C$ and $P$, and $\\beta > \\alpha > 1.$"
      ]
    },
    {
      "cell_type": "markdown",
      "metadata": {
        "id": "ZSu_T5XXX4NC"
      },
      "source": [
        "#### Parameter Updates\n",
        "The import replacement rate parameter, $\\rho$, is updated according to a logistic function\n",
        "\\begin{equation}\n",
        "\\rho = \\frac{\\rho_{max}}{1 + e^{(\\delta_{mid} - \\delta)}}\n",
        "\\end{equation}\n",
        "where \n",
        "$\\rho_{max} < 1$ and \n",
        "\\begin{equation}\n",
        "\\delta_{mid} = \\frac{\\rho_{max}(K_C + K_P)}{2}.\n",
        "\\end{equation}\n",
        "\n",
        "$\\nu$ modifies the increase in production from a previous time step which represents a material flow in units of $X$. This material flow eventually makes it's way to either consumption or exports, but the increase in activity arising from that material flow leaves behind a residual increase in production, and $0 < \\nu < 1.$ Represent as a logistic in $\\delta$ like $\\rho.$ What would $\\nu_{max}$ represent?"
      ]
    },
    {
      "cell_type": "markdown",
      "metadata": {
        "id": "uzqwGmv-X4ND"
      },
      "source": [
        "\\begin{array}{ |l|l|l| } \n",
        "\\hline\n",
        "\\text{Parameter} & \\text{Description} & \\text{Range} \\\\\n",
        " \\hline\n",
        " N & \\text{the population of an economic unit} & N > 1 \\\\ \n",
        " \\text{steps} & \\text{the number of timesteps to run simulation} & \\text{steps} > 1 \\\\ \n",
        " \\alpha & \\text{multiplies population to determine } K_P & \\alpha > 1 \\\\ \n",
        " \\beta & \\text{multiplies population to determine } K_C & \\beta > 1 \\\\ \n",
        " \\rho & \\text{the percentage of imports, both consumption and production, replaced in a given timestep} & 0 < \\rho < \\rho_{max} < 1 \\\\ \n",
        " \\nu & \\text{the multiplier of new production activity, both intensive and extensive} & 0 < \\nu < \\nu_{max} < 1 \\\\ \n",
        " \\delta & \\text{the diversity of goods and services produced in an economic unit} & \\delta > 1 \\\\ \n",
        " \\gamma & \\text{multiplies increases in the economy to determine increases in diversity} & 0 < \\gamma < 1 \\\\ \n",
        " \\hline\n",
        "\\end{array}"
      ]
    },
    {
      "cell_type": "code",
      "metadata": {
        "id": "gAb4AkoQcBM_"
      },
      "source": [
        "def calc_K_c(alpha, N):\n",
        "  return alpha * N\n",
        "\n",
        "def calc_K_p(beta, N):\n",
        "  return beta * N\n",
        "\n",
        "def calc_rho(rho_max, delta_mid, delta):\n",
        "  return rho_max / (1 + (math.exp(delta_mid - delta)))\n",
        "\n",
        "def calc_rho_mid(K_c, K_p, rho_max):\n",
        "  return (rho_max* (K_c + K_p)) / 2\n",
        "\n",
        "def calc_N(N, dCdt, dPdt):\n",
        "  return N + dCdt + dPdt\n",
        "\n",
        "def dCdt_import(rho, I, C, P):\n",
        "  return rho * I * (C / (C + P))\n",
        "\n",
        "def dPdt_import(rho, I, C, P):\n",
        "  return rho * I * (P / (C + P)) + 1\n",
        "\n",
        "def update_X (rho, I):\n",
        "  return rho* I\n",
        "\n",
        "# D = delta\n",
        "def dDdt(rho, gamma, I):\n",
        "  return rho*gamma*I\n",
        "\n",
        "def dCdt_export(dEdt, C, P):\n",
        "  return dEdt * (C / (C + P))\n",
        "\n",
        "def dPdt_export(dEdt, C, P):\n",
        "  return dEdt * (P / (C + P))\n",
        "\n"
      ],
      "execution_count": 27,
      "outputs": []
    },
    {
      "cell_type": "code",
      "metadata": {
        "id": "e3fhIqBLX4NE",
        "colab": {
          "base_uri": "https://localhost:8080/"
        },
        "outputId": "b5fb4a04-6844-404f-fea4-5ef56a16cd25"
      },
      "source": [
        "# Combined\n",
        "\n",
        "# Initial conditions\n",
        "C = 10\n",
        "P = 10\n",
        "I = 8\n",
        "E = I\n",
        "N = 10\n",
        "\n",
        "dCdt = 0\n",
        "dPdt = 0\n",
        "\n",
        "rho_max = .9\n",
        "\n",
        "\n",
        "\n",
        "delta = 1\n",
        "rho = .4\n",
        "nu = .2\n",
        "gamma = .1\n",
        "steps = 20\n",
        "alpha = 2\n",
        "beta = 3\n",
        "\n",
        "K_c = alpha * N\n",
        "K_p = beta * N\n",
        "\n",
        "results = []\n",
        "t = 1\n",
        "\n",
        "X = 0\n",
        "\n",
        "dPdt_previous = 1.2\n",
        "\n",
        "while t <= steps:\n",
        "    dEdt = nu * dPdt_previous\n",
        "    print(\"dEdt: {}\".format(dEdt))\n",
        "    E += dEdt\n",
        "    I += dEdt\n",
        "\n",
        "    # check if size carrying capacity\n",
        "    delta_mid = calc_rho_mid(K_c, K_p, rho_max)\n",
        "    rho = calc_rho(rho_max, delta_mid, delta)\n",
        "\n",
        "    print(\"rho: {}\".format(rho))\n",
        "    print(\"delta_mid: {}\".format(delta_mid))\n",
        "    print(\"delta: {}\".format(delta))\n",
        "    X = update_X(rho, I)\n",
        "\n",
        "    dCdt = dCdt_import(rho, I, C, P)\n",
        "    dPdt =  dPdt_import(rho, I, C, P)\n",
        "\n",
        "    dCdt += dCdt_export(dEdt, C, P)\n",
        "    dPdt += dPdt_export(dEdt, C, P)\n",
        "\n",
        "    dPdt_previous = dPdt\n",
        "\n",
        "    C += dCdt\n",
        "    P += dPdt\n",
        "\n",
        "    delta += dDdt(rho, gamma, I)\n",
        "\n",
        "    N = calc_N(N, dCdt, dPdt)\n",
        "\n",
        "    K_c = calc_K_c(alpha, N)\n",
        "    K_p = calc_K_p(beta, N)\n",
        "    \n",
        "    day_results = {\n",
        "        #'t': t,\n",
        "        #'I': I,\n",
        "        'E': E,\n",
        "        'C': C,\n",
        "        'P': P,\n",
        "        'dCdt': dCdt,\n",
        "        'dPdt': dPdt,\n",
        "        'delta': delta,\n",
        "        'rho': rho,\n",
        "        'nu': nu,\n",
        "    }\n",
        "    results.append(day_results)\n",
        "    t += 1 \n",
        "df = pd.DataFrame(results)\n",
        "print(df)"
      ],
      "execution_count": 28,
      "outputs": [
        {
          "output_type": "stream",
          "text": [
            "dEdt: 0.24\n",
            "rho: 4.1391498388834675e-10\n",
            "delta_mid: 22.5\n",
            "delta: 1\n",
            "dEdt: 0.22400000034106596\n",
            "rho: 2.5423160592578048e-11\n",
            "delta_mid: 25.29000000767399\n",
            "delta: 1.0000000003410658\n",
            "dEdt: 0.22345461399404415\n",
            "rho: 1.618760271390245e-12\n",
            "delta_mid: 28.044000008925543\n",
            "delta: 1.000000000362584\n",
            "dEdt: 0.22434539823949595\n",
            "rho: 1.0319733088266702e-13\n",
            "delta_mid: 30.796772890443787\n",
            "delta: 1.0000000003639902\n",
            "dEdt: 0.22530478886426844\n",
            "rho: 6.565744088918037e-15\n",
            "delta_mid: 33.55155003648471\n",
            "delta: 1.000000000364082\n",
            "dEdt: 0.22620170301548448\n",
            "rho: 4.1683286878120575e-16\n",
            "delta_mid: 36.308485811429456\n",
            "delta: 1.000000000364088\n",
            "dEdt: 0.22703043262119915\n",
            "rho: 2.6409703921149886e-17\n",
            "delta_mid: 39.06743964321431\n",
            "delta: 1.0000000003640885\n",
            "dEdt: 0.22779738786414652\n",
            "rho: 1.6701493306586977e-18\n",
            "delta_mid: 41.828258116612005\n",
            "delta: 1.0000000003640885\n",
            "dEdt: 0.22850927060910253\n",
            "rho: 1.0543811554262087e-19\n",
            "delta_mid: 44.59080223930634\n",
            "delta: 1.0000000003640885\n",
            "dEdt: 0.2291719576383395\n",
            "rho: 6.645755228818465e-21\n",
            "delta_mid: 47.35494809817682\n",
            "delta: 1.0000000003640885\n",
            "dEdt: 0.22979052302501699\n",
            "rho: 4.182572666689215e-22\n",
            "delta_mid: 50.12058500286308\n",
            "delta: 1.0000000003640885\n",
            "dEdt: 0.23036935966949162\n",
            "rho: 2.628682956860507e-23\n",
            "delta_mid: 52.88761367966937\n",
            "delta: 1.0000000003640885\n",
            "dEdt: 0.2309122891191814\n",
            "rho: 1.649936789257318e-24\n",
            "delta_mid: 55.65594473892572\n",
            "delta: 1.0000000003640885\n",
            "dEdt: 0.2314226519099677\n",
            "rho: 1.0343460798277485e-25\n",
            "delta_mid: 58.42549738944389\n",
            "delta: 1.0000000003640885\n",
            "dEdt: 0.23190338138441824\n",
            "rho: 6.476878227737428e-27\n",
            "delta_mid: 61.19619835624132\n",
            "delta: 1.0000000003640885\n",
            "dEdt: 0.23235706429520742\n",
            "rho: 4.051313397331069e-28\n",
            "delta_mid: 63.96798096435626\n",
            "delta: 1.0000000003640885\n",
            "dEdt: 0.23278599086320784\n",
            "rho: 2.5315273658788185e-29\n",
            "delta_mid: 66.74078435902047\n",
            "delta: 1.0000000003640885\n",
            "dEdt: 0.233192196372559\n",
            "rho: 1.5803390870420294e-30\n",
            "delta_mid: 69.5145528384627\n",
            "delta: 1.0000000003640885\n",
            "dEdt: 0.2335774959291916\n",
            "rho: 9.856461009644382e-32\n",
            "delta_mid: 72.28923528030096\n",
            "delta: 1.0000000003640885\n",
            "dEdt: 0.23394351366145927\n",
            "rho: 6.1420766854951794e-33\n",
            "delta_mid: 75.06478464614166\n",
            "delta: 1.0000000003640885\n",
            "            E          C          P  ...  delta           rho   nu\n",
            "0    8.240000  10.120000  11.120000  ...    1.0  4.139150e-10  0.2\n",
            "1    8.464000  10.226727  12.237273  ...    1.0  2.542316e-11  0.2\n",
            "2    8.687455  10.328455  13.359000  ...    1.0  1.618760e-12  0.2\n",
            "3    8.911800  10.426276  14.485524  ...    1.0  1.031973e-13  0.2\n",
            "4    9.137105  10.520572  15.616533  ...    1.0  6.565744e-15  0.2\n",
            "5    9.363307  10.611622  16.751685  ...    1.0  4.168329e-16  0.2\n",
            "6    9.590337  10.699665  17.890672  ...    1.0  2.640970e-17  0.2\n",
            "7    9.818134  10.784916  19.033218  ...    1.0  1.670149e-18  0.2\n",
            "8   10.046644  10.867566  20.179078  ...    1.0  1.054381e-19  0.2\n",
            "9   10.275816  10.947785  21.328030  ...    1.0  6.645755e-21  0.2\n",
            "10  10.505606  11.025729  22.479877  ...    1.0  4.182573e-22  0.2\n",
            "11  10.735975  11.101537  23.634439  ...    1.0  2.628683e-23  0.2\n",
            "12  10.966888  11.175336  24.791552  ...    1.0  1.649937e-24  0.2\n",
            "13  11.198310  11.247242  25.951069  ...    1.0  1.034346e-25  0.2\n",
            "14  11.430214  11.317360  27.112854  ...    1.0  6.476878e-27  0.2\n",
            "15  11.662571  11.385787  28.276784  ...    1.0  4.051313e-28  0.2\n",
            "16  11.895357  11.452612  29.442745  ...    1.0  2.531527e-29  0.2\n",
            "17  12.128549  11.517916  30.610633  ...    1.0  1.580339e-30  0.2\n",
            "18  12.362127  11.581776  31.780350  ...    1.0  9.856461e-32  0.2\n",
            "19  12.596070  11.644261  32.951809  ...    1.0  6.142077e-33  0.2\n",
            "\n",
            "[20 rows x 8 columns]\n"
          ],
          "name": "stdout"
        }
      ]
    },
    {
      "cell_type": "code",
      "metadata": {
        "colab": {
          "base_uri": "https://localhost:8080/",
          "height": 283
        },
        "id": "_EQpFdrCdR44",
        "outputId": "1a853f16-093f-44d6-8f3e-46aeb93d4e32"
      },
      "source": [
        "df.plot()"
      ],
      "execution_count": 29,
      "outputs": [
        {
          "output_type": "execute_result",
          "data": {
            "text/plain": [
              "<matplotlib.axes._subplots.AxesSubplot at 0x7f583e5b9690>"
            ]
          },
          "metadata": {
            "tags": []
          },
          "execution_count": 29
        },
        {
          "output_type": "display_data",
          "data": {
            "image/png": "[encoded data removed]",
            "text/plain": [
              "<Figure size 432x288 with 1 Axes>"
            ]
          },
          "metadata": {
            "tags": [],
            "needs_background": "light"
          }
        }
      ]
    },
    {
      "cell_type": "code",
      "metadata": {
        "id": "kfaiqzuVdUsR"
      },
      "source": [
        ""
      ],
      "execution_count": null,
      "outputs": []
    }
  ]
}